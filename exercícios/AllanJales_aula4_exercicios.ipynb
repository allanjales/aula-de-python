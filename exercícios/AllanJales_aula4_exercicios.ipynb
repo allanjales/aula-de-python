{
  "nbformat": 4,
  "nbformat_minor": 0,
  "metadata": {
    "kernelspec": {
      "display_name": "Python 3",
      "language": "python",
      "name": "python3"
    },
    "language_info": {
      "codemirror_mode": {
        "name": "ipython",
        "version": 3
      },
      "file_extension": ".py",
      "mimetype": "text/x-python",
      "name": "python",
      "nbconvert_exporter": "python",
      "pygments_lexer": "ipython3",
      "version": "3.6.4"
    },
    "colab": {
      "name": "aula4_exercicios",
      "provenance": [],
      "include_colab_link": true
    }
  },
  "cells": [
    {
      "cell_type": "markdown",
      "metadata": {
        "id": "view-in-github",
        "colab_type": "text"
      },
      "source": [
        "<a href=\"https://colab.research.google.com/github/allanjales/aulas-de-python/blob/master/exerc%C3%ADcios/aula4_exercicios.ipynb\" target=\"_parent\"><img src=\"https://colab.research.google.com/assets/colab-badge.svg\" alt=\"Open In Colab\"/></a>"
      ]
    },
    {
      "cell_type": "markdown",
      "metadata": {
        "id": "lLw95iEWzVdr"
      },
      "source": [
        "### Exercício:\n",
        "\n",
        "   * Um objeto de função é um valor que você pode atribuir a uma variável ou passar como um argumento. Por exemplo, ```do_twice``` é uma função que usa um objeto de função como argumento e o chama duas vezes:\n"
      ]
    },
    {
      "cell_type": "code",
      "metadata": {
        "id": "woArOSSNzVds"
      },
      "source": [
        "def do_twice (f): \n",
        "    f () \n",
        "    f ()"
      ],
      "execution_count": null,
      "outputs": []
    },
    {
      "cell_type": "markdown",
      "metadata": {
        "id": "lbP8VjuQzVdu"
      },
      "source": [
        "Aqui está um exemplo que usa ```do_twice``` para chamar uma função chamada ```print_spam``` duas vezes.\n"
      ]
    },
    {
      "cell_type": "code",
      "metadata": {
        "id": "-h-QwkrvzVdw",
        "outputId": "d1c000da-6846-4e79-fc66-2d3dde3b4771"
      },
      "source": [
        "def print_spam (): \n",
        "    print('spam') \n",
        "\n",
        "do_twice (print_spam)"
      ],
      "execution_count": null,
      "outputs": [
        {
          "output_type": "stream",
          "text": [
            "spam\n",
            "spam\n"
          ],
          "name": "stdout"
        }
      ]
    },
    {
      "cell_type": "markdown",
      "metadata": {
        "id": "DL4IUvnOzVdz"
      },
      "source": [
        "\n",
        "\n",
        "Digite este exemplo em um script e teste-o.\n",
        "Modifique ```do_twice``` para que sejam necessários dois argumentos, um objeto de função e um valor, e chame a função duas vezes, passando o valor como um argumento.\n",
        "\n",
        "Escreva uma versão mais geral de ```print_spam```, chamada ```print_twice```, que use uma _string_ como parâmetro e imprima duas vezes.\n",
        "Use a versão modificada de ``` do_twice``` para chamar ```print_twice``` duas vezes, passando ```'spam'``` como um argumento.\n",
        "Defina uma nova função chamada ```do_four``` que recebe um objeto de função e um valor e chama a função ___quatro___ vezes, passando o valor como um parâmetro. Deve haver apenas duas declarações no corpo desta função, não quatro.\n",
        "\n",
        "  "
      ]
    },
    {
      "cell_type": "markdown",
      "metadata": {
        "id": "XJPOxWXqzVdz"
      },
      "source": [
        "Esta aula foi tomada quase íntegramente do livro ThinkPython, capítulo 3 http://greenteapress.com/thinkpython/html/thinkpython004.html\n"
      ]
    },
    {
      "cell_type": "code",
      "metadata": {
        "id": "zWLBmJ0alQun",
        "outputId": "3ee302d1-0a57-4304-9356-5410f564b4d1",
        "colab": {
          "base_uri": "https://localhost:8080/",
          "height": 51
        }
      },
      "source": [
        "#Parte 1\n",
        "\n",
        "#Definição de funções\n",
        "def do_twice(funcao, argumento):\n",
        "  funcao(argumento)\n",
        "  funcao(argumento)\n",
        "\n",
        "def print_argumento(argumento):\n",
        "  print(argumento)\n",
        "\n",
        "#Exibição dos resultados\n",
        "do_twice(print_valor, \"pastel\")"
      ],
      "execution_count": 4,
      "outputs": [
        {
          "output_type": "stream",
          "text": [
            "pastel\n",
            "pastel\n"
          ],
          "name": "stdout"
        }
      ]
    },
    {
      "cell_type": "code",
      "metadata": {
        "id": "R8C4ysOVlMs0",
        "outputId": "0d1308e6-761a-446a-ae65-435e33fd52e0",
        "colab": {
          "base_uri": "https://localhost:8080/",
          "height": 85
        }
      },
      "source": [
        "#Parte 2\n",
        "\n",
        "#Definição de funções\n",
        "def print_twice(string):\n",
        "  print(string)\n",
        "  print(string)\n",
        "\n",
        "#Exibição dos resultados\n",
        "do_twice(print_twice, \"spam\")"
      ],
      "execution_count": 6,
      "outputs": [
        {
          "output_type": "stream",
          "text": [
            "spam\n",
            "spam\n",
            "spam\n",
            "spam\n"
          ],
          "name": "stdout"
        }
      ]
    },
    {
      "cell_type": "code",
      "metadata": {
        "id": "K5HoAeX_nhq9",
        "outputId": "b9970378-595a-4788-a72c-c0903676929f",
        "colab": {
          "base_uri": "https://localhost:8080/",
          "height": 85
        }
      },
      "source": [
        "#Parte 3\n",
        "\n",
        "#Definição de funções\n",
        "def do_four(funcao, argumento):\n",
        "  do_twice(funcao, \"spam\")\n",
        "\n",
        "#Exibição dos resultados\n",
        "do_four(print_twice, \"spam\")"
      ],
      "execution_count": 7,
      "outputs": [
        {
          "output_type": "stream",
          "text": [
            "spam\n",
            "spam\n",
            "spam\n",
            "spam\n"
          ],
          "name": "stdout"
        }
      ]
    }
  ]
}
