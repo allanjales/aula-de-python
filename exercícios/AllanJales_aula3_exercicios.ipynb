{
  "nbformat": 4,
  "nbformat_minor": 0,
  "metadata": {
    "kernelspec": {
      "display_name": "Python 3",
      "language": "python",
      "name": "python3"
    },
    "language_info": {
      "codemirror_mode": {
        "name": "ipython",
        "version": 3
      },
      "file_extension": ".py",
      "mimetype": "text/x-python",
      "name": "python",
      "nbconvert_exporter": "python",
      "pygments_lexer": "ipython3",
      "version": "3.6.4"
    },
    "colab": {
      "name": "aula3_exercicios",
      "provenance": [],
      "include_colab_link": true
    }
  },
  "cells": [
    {
      "cell_type": "markdown",
      "metadata": {
        "id": "view-in-github",
        "colab_type": "text"
      },
      "source": [
        "<a href=\"https://colab.research.google.com/github/allanjales/aulas-de-python/blob/master/exerc%C3%ADcios/aula3_exercicios.ipynb\" target=\"_parent\"><img src=\"https://colab.research.google.com/assets/colab-badge.svg\" alt=\"Open In Colab\"/></a>"
      ]
    },
    {
      "cell_type": "markdown",
      "metadata": {
        "id": "kAzo_U0J1QC4"
      },
      "source": [
        "## Exercícios:\n",
        "1. Crie uma funcão que tome um argumento e imprima o valor e o tipo dele.\n",
        "1. Crie uma função que calcule e imprima velocidade media de um objeto a partir de uma posição inicial, a final e o tempo transcorrido para um objeto em MRU. Também crie uma funcão que calcule e imprima a velocidade de um objeto a partir da aceleração constante e o tempo (MRUA) (p.ex. queda libre).\n",
        "1. Crie uma funcão para calcular o ángulo zenital do sol (da semana passada) tomando como argumento as medidas da altura e o comprimento da sombra.\n",
        "1. Crie uma função que faça a conversão de uma medida inicialmente em milhas para m, e outra para o inverso; uma de horas para segundos, e o inverso. Utilize estas funções para resolver novamente o primeiro exercício da semana passada (da corrida). Se uma pessoa demora 30 minutos em 4 milhas, qual velocidade media em km/h ? e o tempo medio por kilometro?\n",
        "1. Crie funções para calcular os outros exemplos das aulas anteriores: IMC, volume de uma esfera, distancia entre pontos de máximos de difração. Decida quais serão os argumentos e o valor retornado.\n"
      ]
    },
    {
      "cell_type": "code",
      "metadata": {
        "id": "bAzYOdIK1QC5",
        "outputId": "24992b89-3a64-4d7d-db8a-7f531810416d",
        "colab": {
          "base_uri": "https://localhost:8080/",
          "height": 68
        }
      },
      "source": [
        "#Exercício 1\n",
        "\n",
        "#Definição de funções\n",
        "def valor_e_tipo(variable):\n",
        "  print(variable, type(variable))\n",
        "\n",
        "#Exibição dos resultados\n",
        "valor_e_tipo(\"oi\")\n",
        "valor_e_tipo(12)\n",
        "valor_e_tipo(1.456)"
      ],
      "execution_count": 2,
      "outputs": [
        {
          "output_type": "stream",
          "text": [
            "oi <class 'str'>\n",
            "12 <class 'int'>\n",
            "1.456 <class 'float'>\n"
          ],
          "name": "stdout"
        }
      ]
    },
    {
      "cell_type": "code",
      "metadata": {
        "id": "NpGZ28h4XZJS",
        "outputId": "1939d1bf-2b2b-4926-e754-b63a8d9677d8",
        "colab": {
          "base_uri": "https://localhost:8080/",
          "height": 51
        }
      },
      "source": [
        "#Exercício 2\n",
        "from scipy import integrate\n",
        "\n",
        "#Definição de funções\n",
        "def vel_mru(posicao_inicial, posicao_final, tempo):\n",
        "  return (posicao_final - posicao_inicial)/tempo\n",
        "\n",
        "def vel_mrua(vel_inicial, aceleracao, tempo):\n",
        "  return vel_inicial + aceleracao*tempo\n",
        "\n",
        "#Exibição dos resultados\n",
        "print(vel_mru(1, 5, 2))\n",
        "print(vel_mrua(0, 2, -scipy.constants.g))"
      ],
      "execution_count": 12,
      "outputs": [
        {
          "output_type": "stream",
          "text": [
            "2.0\n",
            "-19.6133\n"
          ],
          "name": "stdout"
        }
      ]
    },
    {
      "cell_type": "code",
      "metadata": {
        "id": "xSUOBiAOawJe",
        "outputId": "160f6876-56a7-4e3b-9fa5-5db1a7258f36",
        "colab": {
          "base_uri": "https://localhost:8080/",
          "height": 68
        }
      },
      "source": [
        "#Exercício 3\n",
        "import math\n",
        "\n",
        "#Definição de funções\n",
        "def angulo(altura, sombra):\n",
        "  return math.degrees(math.atan(sombra/altura))\n",
        "\n",
        "#Definição de variáveis\n",
        "altura = float(input(\"insira a altura do objeto:\"))\n",
        "sombra = float(input(\"insira o comprimento da sombra do objeto:\"))\n",
        "\n",
        "#Exibição dos resultados\n",
        "print(\"O ângulo do sol é de {:.2f} °\".format(angulo(altura, sombra)))"
      ],
      "execution_count": 29,
      "outputs": [
        {
          "output_type": "stream",
          "text": [
            "insira a altura do objeto:10\n",
            "insira o comprimento da sombra do objeto:1\n",
            "O ângulo do sol é de 5.71 °\n"
          ],
          "name": "stdout"
        }
      ]
    },
    {
      "cell_type": "code",
      "metadata": {
        "id": "S15RR7dZePK3",
        "outputId": "d532e97d-5201-4a89-ebc6-9cb4daf70d15",
        "colab": {
          "base_uri": "https://localhost:8080/",
          "height": 51
        }
      },
      "source": [
        "#Exercício 4\n",
        "\n",
        "#Funções de conversão\n",
        "def milha_para_metro(mi):\n",
        "  m = mi*1609\n",
        "  return m\n",
        "\n",
        "def metro_para_milha(m):\n",
        "  mi = m/1609\n",
        "  return mi\n",
        "\n",
        "def hora_para_segundo(h):\n",
        "  s = h*3600\n",
        "  return s\n",
        "\n",
        "def segundo_para_hora(s):\n",
        "  h = s/3600\n",
        "  return h\n",
        "\n",
        "#Calculos\n",
        "tempo_em_minutos = 30\n",
        "distancia_em_milhas = 4\n",
        "velocidade_media_em_kmh = (milha_para_metro(distancia_em_milhas)/1000)/segundo_para_hora(tempo_em_minutos*60)\n",
        "\n",
        "#Exibição dos resultados\n",
        "print('A velocidade média do percurso será de {:.2f} km/h'.format(velocidade_media_em_kmh))\n",
        "\n",
        "print('O tempo médio será por quilômetro de {:.2f} h/km'.format(1/velocidade_media_em_kmh))"
      ],
      "execution_count": 30,
      "outputs": [
        {
          "output_type": "stream",
          "text": [
            "A velocidade média do percurso será de 12.87 km/h\n",
            "O tempo médio será por quilômetro de 0.08 h/km\n"
          ],
          "name": "stdout"
        }
      ]
    },
    {
      "cell_type": "code",
      "metadata": {
        "id": "iV54aoSOe4p1",
        "outputId": "e45737ed-4e6b-4f83-9488-b7ce61401f02",
        "colab": {
          "base_uri": "https://localhost:8080/",
          "height": 68
        }
      },
      "source": [
        "#Exercício 5\n",
        "import math\n",
        "\n",
        "#Definição de funções\n",
        "def imc_do_bebe(massa, altura):\n",
        "  return massa/pow(altura,2)\n",
        "\n",
        "def vol_esfera(raio):\n",
        "  return 4/3*math.pi*raio**2\n",
        "\n",
        "def distancia_entre_franjas(comprimento_de_onda_nm, distancia_do_anteparo_m, espacamento_entre_as_fendas_mm):\n",
        "  return comprimento_de_onda_nm*distancia_do_anteparo_m/espacamento_entre_as_fendas_mm\n",
        "\n",
        "#Exibição dos resultados\n",
        "imc = imc_do_bebe(11, 0.7)\n",
        "if imc >= 20 and imc <= 25:\n",
        "  print('O IMC do bebê é {:.2f}. Portanto o bebê é saudável'.format(imc))\n",
        "else:\n",
        "  print('O IMC do bebê é {:.2f}. O bebê não está saudável :('.format(imc))\n",
        "\n",
        "\n",
        "raio = 5\n",
        "print(\"Para uma esfera de raio {:.2f} unidades, o volume é {:.2f} unidades\".format(raio, vol_esfera(raio)))\n",
        "\n",
        "\n",
        "print(\"Os máximos consecutivos de interferência estão há {:.3f} mm de distância\".format(distancia_entre_franjas(632.8, 1.98, 0.250)))\n"
      ],
      "execution_count": 49,
      "outputs": [
        {
          "output_type": "stream",
          "text": [
            "O IMC do bebê é 22.45. Portanto o bebê é saudável\n",
            "Para uma esfera de raio 5.00 unidades, o volume é 104.72 unidades\n",
            "Os máximos consecutivos de interferência estão há 5011.776 mm de distância\n"
          ],
          "name": "stdout"
        }
      ]
    }
  ]
}
