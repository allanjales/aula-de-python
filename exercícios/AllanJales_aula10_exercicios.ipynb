{
  "nbformat": 4,
  "nbformat_minor": 0,
  "metadata": {
    "kernelspec": {
      "display_name": "Python 3",
      "language": "python",
      "name": "python3"
    },
    "language_info": {
      "codemirror_mode": {
        "name": "ipython",
        "version": 3
      },
      "file_extension": ".py",
      "mimetype": "text/x-python",
      "name": "python",
      "nbconvert_exporter": "python",
      "pygments_lexer": "ipython3",
      "version": "3.7.0"
    },
    "colab": {
      "name": "AllanJales_aula10_exercicios.ipynb",
      "provenance": [],
      "collapsed_sections": [],
      "include_colab_link": true
    }
  },
  "cells": [
    {
      "cell_type": "markdown",
      "metadata": {
        "id": "view-in-github",
        "colab_type": "text"
      },
      "source": [
        "<a href=\"https://colab.research.google.com/github/allanjales/aulas-de-python/blob/master/exerc%C3%ADcios/AllanJales_aula10_exercicios.ipynb\" target=\"_parent\"><img src=\"https://colab.research.google.com/assets/colab-badge.svg\" alt=\"Open In Colab\"/></a>"
      ]
    },
    {
      "cell_type": "markdown",
      "metadata": {
        "id": "zz8ch5fReyxZ"
      },
      "source": [
        "## Exercícios\n",
        "\n",
        "1. Quantos intervalos (ou qual largura de intervalo) é preciso implementar para ter uma precisão de 1% no resultado numérico na integração de $f(x)$ de 0 a 10? \n",
        "\n",
        "$\\dfrac{R_{num}-R_{an}}{R_{an}} \\leq 10\\% $\n",
        "\n",
        "2. Faça a integração numérica pela esquerda da mesma função. Compare o resultado com a integração pela direita.\n",
        "\n",
        "3. Faça a integração por trapézios. Lembre que a área de um trapézio é dada por: $A=\\frac{(a + b)h}{2}$\n",
        "\n",
        "3. Faça a integração numérica das funções trigonométricas $\\sin(x)$ e $\\cos(x)$ num período $0 < x \\leq 2\\pi$\n",
        "\n",
        "4. Faça a integração das funções hiperbólicas  $\\sinh(x)$ e $\\cosh(x)$ no intervalo $0-10$."
      ]
    },
    {
      "cell_type": "code",
      "metadata": {
        "id": "TpEjSHNGeyxa",
        "outputId": "250f32de-20bc-45b5-9e33-3c8a08d71ded",
        "colab": {
          "base_uri": "https://localhost:8080/"
        }
      },
      "source": [
        "#Exercício 1\n",
        "import math\n",
        "\n",
        "def solve_equation(function, var, value):\n",
        "    function_x = function.replace(var, str(value))\n",
        "    return eval(function_x)\n",
        "\n",
        "def integrate_left(function, var, x0, x1, divisions=1000):\n",
        "    delta_x = (x1 - x0)/divisions\n",
        "    integral = 0\n",
        "\n",
        "    #Calculates integral\n",
        "    for i in range(divisions):\n",
        "        y = solve_equation(function, var, x0+(i+0)*delta_x)\n",
        "        integral += y*delta_x\n",
        "\n",
        "    return integral\n",
        "\n",
        "def calculate_error(value, exact):\n",
        "    return abs(value - exact)/exact\n",
        "\n",
        "def discover_minor_error(function, var, x0, x1, exact, goal, limit = 10000):\n",
        "    error      = 0\n",
        "    moves_made = 0\n",
        "    divisions  = 1\n",
        "\n",
        "    for divisions in range(1, limit):\n",
        "        error = calculate_error(integrate_left(\"math.exp(-x0)\", \"x0\", 0, 10, divisions), exact)\n",
        "        if error <= goal:\n",
        "            return divisions\n",
        "            break\n",
        "    \n",
        "    return False\n",
        "\n",
        "print(\"Divisões necessárias para um erro menor que 10%:\", discover_minor_error(\"math.exp(-x0)\", \"x0\", 0, 10, 0.9999546000702375, 0.10))\n",
        "print(\"Divisões necessárias para um erro menor que 1%: \", discover_minor_error(\"math.exp(-x0)\", \"x0\", 0, 10, 0.9999546000702375, 0.01))"
      ],
      "execution_count": null,
      "outputs": [
        {
          "output_type": "stream",
          "text": [
            "Divisões necessárias para um erro menor que 10%: 52\n",
            "Divisões necessárias para um erro menor que 1%:  502\n"
          ],
          "name": "stdout"
        }
      ]
    },
    {
      "cell_type": "code",
      "metadata": {
        "id": "JySFkpzOXVzP",
        "outputId": "28b2b52e-3f5a-49f5-d2e3-a13acad6249a",
        "colab": {
          "base_uri": "https://localhost:8080/"
        }
      },
      "source": [
        "#Exercício 2\n",
        "\n",
        "def solve_equation(function, var, value):\n",
        "    function_x = function.replace(var, str(value))\n",
        "    return eval(function_x)\n",
        "\n",
        "def integrate_left(function, var, x0, x1, divisions=1000):\n",
        "    delta_x = (x1 - x0)/divisions\n",
        "    integral = 0\n",
        "\n",
        "    #Calculates integral\n",
        "    for i in range(divisions):\n",
        "        y = solve_equation(function, var, x0+(i+0)*delta_x)\n",
        "        integral += y*delta_x\n",
        "\n",
        "    return integral\n",
        "\n",
        "def integrate_right(function, var, x0, x1, divisions=1000):\n",
        "    delta_x = (x1 - x0)/divisions\n",
        "    integral = 0\n",
        "\n",
        "    #Calculates integral\n",
        "    for i in range(divisions):\n",
        "        y = solve_equation(function, var, x0+(i+1)*delta_x)\n",
        "        integral += y*delta_x\n",
        "\n",
        "    return integral\n",
        " \n",
        "print(\"Integração pela esquerda:\", integrate_left(\"2*x**2\", \"x\", 0, 1))\n",
        "print(\"Integração pela direita: \", integrate_right(\"2*x**2\", \"x\", 0, 1))"
      ],
      "execution_count": null,
      "outputs": [
        {
          "output_type": "stream",
          "text": [
            "Integração pela esquerda: 0.6656670000000007\n",
            "Integração pela direita:  0.6676670000000007\n"
          ],
          "name": "stdout"
        }
      ]
    },
    {
      "cell_type": "code",
      "metadata": {
        "id": "7Dg1U8FAqKpZ",
        "outputId": "897900df-d0d4-45be-b153-86b943a8fffd",
        "colab": {
          "base_uri": "https://localhost:8080/"
        }
      },
      "source": [
        "#Exercício 3\n",
        "import math\n",
        "\n",
        "def solve_equation(function, var, value):\n",
        "    function_x = function.replace(var, str(value))\n",
        "    return eval(function_x)\n",
        "\n",
        "def integrate(function, var, x0, x1, divisions=1000):\n",
        "    delta_x = (x1 - x0)/divisions\n",
        "    integral = 0\n",
        "\n",
        "    #Calculates integral\n",
        "    for i in range(divisions):\n",
        "        y0 = solve_equation(function, var, x0+(i+0)*delta_x)\n",
        "        y1 = solve_equation(function, var, x0+(i+1)*delta_x)\n",
        "        integral += (y0+y1)*delta_x/2\n",
        "\n",
        "    return integral\n",
        "\n",
        "print(\"Integração por trapézios:\", integrate(\"2*x**2\", \"x\", 0, 1))"
      ],
      "execution_count": null,
      "outputs": [
        {
          "output_type": "stream",
          "text": [
            "Integração por trapézios: 0.6666669999999997\n"
          ],
          "name": "stdout"
        }
      ]
    },
    {
      "cell_type": "code",
      "metadata": {
        "id": "ihaXbPkvrc3z",
        "outputId": "c646a586-0786-448b-f271-9519b3db774c",
        "colab": {
          "base_uri": "https://localhost:8080/"
        }
      },
      "source": [
        "#Exercício 4\n",
        "\n",
        "def solve_equation(function, var, value):\n",
        "    function_x = function.replace(var, str(value))\n",
        "    return eval(function_x)\n",
        "\n",
        "def integrate(function, var, x0, x1, divisions=1000):\n",
        "    delta_x = (x1 - x0)/divisions\n",
        "    integral = 0\n",
        "\n",
        "    #Calculates integral\n",
        "    for i in range(divisions):\n",
        "        y0 = solve_equation(function, var, x0+(i+0)*delta_x)\n",
        "        y1 = solve_equation(function, var, x0+(i+1)*delta_x)\n",
        "        integral += (y0+y1)*delta_x/2\n",
        "\n",
        "    return integral\n",
        "\n",
        "print(\"Integração de sin(x) de 0 a pi:\", integrate(\"math.sin(x)\", \"x\", 0, 2*math.pi))"
      ],
      "execution_count": null,
      "outputs": [
        {
          "output_type": "stream",
          "text": [
            "Integração de sin(x) de 0 a pi: 5.298021678486198e-17\n"
          ],
          "name": "stdout"
        }
      ]
    },
    {
      "cell_type": "code",
      "metadata": {
        "id": "nmdLmvWOsUhr",
        "outputId": "5091fe9e-ec5b-4ecc-86ad-10b1c7c10bf1",
        "colab": {
          "base_uri": "https://localhost:8080/"
        }
      },
      "source": [
        "#Exercício 5\n",
        "\n",
        "def solve_equation(function, var, value):\n",
        "    function_x = function.replace(var, str(value))\n",
        "    return eval(function_x)\n",
        "\n",
        "def integrate(function, var, x0, x1, divisions=1000):\n",
        "    delta_x = (x1 - x0)/divisions\n",
        "    integral = 0\n",
        "\n",
        "    #Calculates integral\n",
        "    for i in range(divisions):\n",
        "        y0 = solve_equation(function, var, x0+(i+0)*delta_x)\n",
        "        y1 = solve_equation(function, var, x0+(i+1)*delta_x)\n",
        "        integral += (y0+y1)*delta_x/2\n",
        "\n",
        "    return integral\n",
        "\n",
        "print(\"Integração de sinh(x) de 0 a 10:\", integrate(\"math.sinh(x)\", \"x\", 0, 10))\n",
        "print(\"Integração de cosh(x) de 0 a 10:\", integrate(\"math.cosh(x)\", \"x\", 0, 10))"
      ],
      "execution_count": null,
      "outputs": [
        {
          "output_type": "stream",
          "text": [
            "Integração de sinh(x) de 0 a 10: 11012.32468855805\n",
            "Integração de cosh(x) de 0 a 10: 11013.324651491059\n"
          ],
          "name": "stdout"
        }
      ]
    },
    {
      "cell_type": "markdown",
      "metadata": {
        "id": "6UKLyVZ7eyxe"
      },
      "source": [
        "### Exercícios extras de resolução numérica de equações diferenciais\n",
        "\n",
        "1. Imagine que tem um/a maratonista treinando, que num trecho de $5 km$ tem velocidade quase constante de $12 km/h$. Produza uma lista distância percorrida em intervalos de 1 minuto.\n",
        "\n",
        "1. O/A mesmo/a atleta no seguinte trecho acelera por $200$ metros até chegar em $15 km/h$ por $2 km$. Queremos obter uma tabela ou gráfico da distância percorrida en função do tempo e o tempo total para chegar em $7 km$, faça isto utilizando listas.\n",
        "\n",
        "1. Considere um péndulo simples num plano. O comprimento da linha é $1$ metro, a massa é $0,2 kg$ e a aceleração de gravidade $9,8 m/s^2$. Faça um gráfico ou crie uma tabela para a posição em coordenadas cartesianas em função do tempo, utilizando listas.\n",
        "\n",
        "\n",
        "- (opcional) Pesquise sobre o pacote numpy e os objetos desse pacote chamados array, tente utilizálos ao invés de listas para resolver os exercícios.\n",
        "\n",
        "- (opcional) Pesquise sobre o pacote scipy e seu modulo integrate para resolver integrações ou equações diferenciais numéricamente.\n"
      ]
    },
    {
      "cell_type": "code",
      "metadata": {
        "id": "apfKhtYmjNTD"
      },
      "source": [
        "#Exercício 1\n",
        "import matplotlib.pyplot as plt\n",
        "\n",
        "def get_positions(start, velocity, distance, delta_t):\n",
        "    result = {\n",
        "        'positions': [start],\n",
        "        'times': [0]\n",
        "    }\n",
        "    while result['positions'][-1] < distance:\n",
        "        result['positions'].append(result['positions'][-1] + velocity*delta_t)\n",
        "        result['times'].append(result['times'][-1] + delta_t)\n",
        "    return result\n",
        "\n",
        "def plot_graph(x, y, label_x, label_y):\n",
        "    plt.plot(x,y)\n",
        "    plt.xlabel(label_x)\n",
        "    plt.ylabel(label_y)\n",
        "\n",
        "plot_values = get_positions(0, 12, 5, 1/60)\n",
        "\n",
        "plot_graph(plot_values['times'], plot_values['positions'], 'tempo [minutos]', 'distância [km]')"
      ],
      "execution_count": null,
      "outputs": []
    },
    {
      "cell_type": "code",
      "metadata": {
        "id": "Y_WcatzHj8jW"
      },
      "source": [
        "#Exercício 2\n",
        "import matplotlib.pyplot as plt\n",
        "import math\n",
        "\n",
        "runner = {\n",
        "    'position': [0],\n",
        "    'time': [0]\n",
        "}\n",
        "\n",
        "#First run configs\n",
        "initial_position1 = 0\n",
        "end_position1 = 5\n",
        "velocity1 = 12\n",
        "\n",
        "#First run code\n",
        "def runner_part1(time):\n",
        "    position = initial_position1 + velocity1*time\n",
        "    \n",
        "    if position <= end_position1:\n",
        "        return position\n",
        "    else:\n",
        "        return False\n",
        "\n",
        "#Second run configs\n",
        "end_position2 = 5.2\n",
        "end_velocity2 = 15\n",
        "aceleration2 = (end_velocity2 - velocity1)/(end_position2 - end_position1)\n",
        "\n",
        "#Second run code\n",
        "def runner_part2(time):\n",
        "    position = end_position1 + velocity1*time + aceleration2*time**2/2\n",
        "    \n",
        "    if position <= end_position2:\n",
        "        return position\n",
        "    else:\n",
        "        return False\n",
        "\n",
        "#Third run configs\n",
        "initial_position3 = 5.2\n",
        "\n",
        "#Third run code\n",
        "def runner_part3(time):\n",
        "    position = initial_position3 + end_velocity2*time\n",
        "    return position\n",
        "\n",
        "\n",
        "#Configs about graph\n",
        "steps = 1/60\n",
        "initial_position3 = 7\n",
        "\n",
        "#Do calculus\n",
        "while runner['position'][-1] <= initial_position3:\n",
        "    #Get time\n",
        "    runner['time'].append(runner['time'][-1] + steps)\n",
        "\n",
        "    #Get position\n",
        "    if runner_part1(runner['time'][-1]):\n",
        "        runner['position'].append(runner_part1(runner['time'][-1]))\n",
        "    elif runner_part2(runner['time'][-1]):\n",
        "        runner['position'].append(runner_part2(runner['time'][-1]))\n",
        "    else:\n",
        "        runner['position'].append(runner_part3(runner['time'][-1]))\n",
        "\n",
        "#Plot graph\n",
        "def plot_graph(x, y, label_x, label_y):\n",
        "    plt.plot(x,y)\n",
        "    plt.xlabel(label_x)\n",
        "    plt.ylabel(label_y)\n",
        "\n",
        "plot_graph(runner['time'], runner['position'], 'tempo [minutos]', 'distância [km]')"
      ],
      "execution_count": null,
      "outputs": []
    },
    {
      "cell_type": "code",
      "metadata": {
        "id": "A_rp9ePIj_wV"
      },
      "source": [
        "#Exercício 3\n",
        "import matplotlib.pyplot as plt\n",
        "import math\n",
        "\n",
        "#Configs about pendulum\n",
        "length = 1\n",
        "gravity = 9.8\n",
        "amplitude = 2\n",
        "fase_inicial = 0\n",
        "\n",
        "#Pendulum initial positions\n",
        "pendulum = {\n",
        "    'position_x': [],\n",
        "    'velocity_x': [],\n",
        "    'time': []\n",
        "}\n",
        "\n",
        "#Configs about graph\n",
        "n_points = 50\n",
        "steps = 0.5\n",
        "\n",
        "#Do calculus\n",
        "for i in range(n_points):\n",
        "    omega = 1/(2*math.pi)*math.sqrt(gravity/length)\n",
        "\n",
        "    pendulum['time']      .append(i*steps)\n",
        "    pendulum['position_x'].append(       amplitude*math.cos(omega*pendulum['time'][-1] + fase_inicial))\n",
        "    pendulum['velocity_x'].append(-omega*amplitude*math.sin(omega*pendulum['time'][-1] + fase_inicial))\n",
        "\n",
        "#Plot graph\n",
        "def plot_graph(x, y, label_x, label_y):\n",
        "    plt.plot(x,y)\n",
        "    plt.xlabel(label_x)\n",
        "    plt.ylabel(label_y)\n",
        "\n",
        "plot_graph(pendulum['time'], pendulum['position_x'], 'tempo', 'posição/velocidade')\n",
        "plot_graph(pendulum['time'], pendulum['velocity_x'], 'tempo', 'posição/velocidade')"
      ],
      "execution_count": null,
      "outputs": []
    }
  ]
}