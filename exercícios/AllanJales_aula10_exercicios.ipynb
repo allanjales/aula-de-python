{
  "nbformat": 4,
  "nbformat_minor": 0,
  "metadata": {
    "kernelspec": {
      "display_name": "Python 3",
      "language": "python",
      "name": "python3"
    },
    "language_info": {
      "codemirror_mode": {
        "name": "ipython",
        "version": 3
      },
      "file_extension": ".py",
      "mimetype": "text/x-python",
      "name": "python",
      "nbconvert_exporter": "python",
      "pygments_lexer": "ipython3",
      "version": "3.7.0"
    },
    "colab": {
      "name": "AllanJales_aula10_exercicios.ipynb",
      "provenance": [],
      "collapsed_sections": [],
      "include_colab_link": true
    }
  },
  "cells": [
    {
      "cell_type": "markdown",
      "metadata": {
        "id": "view-in-github",
        "colab_type": "text"
      },
      "source": [
        "<a href=\"https://colab.research.google.com/github/allanjales/aulas-de-python/blob/master/exerc%C3%ADcios/AllanJales_aula10_exercicios.ipynb\" target=\"_parent\"><img src=\"https://colab.research.google.com/assets/colab-badge.svg\" alt=\"Open In Colab\"/></a>"
      ]
    },
    {
      "cell_type": "markdown",
      "metadata": {
        "id": "zz8ch5fReyxZ"
      },
      "source": [
        "## Exercícios\n",
        "\n",
        "1. Quantos intervalos (ou qual largura de intervalo) é preciso implementar para ter uma precisão de 1% no resultado numérico na integração de $f(x)$ de 0 a 10? \n",
        "\n",
        "$\\dfrac{R_{num}-R_{an}}{R_{an}} \\leq 10\\% $\n",
        "\n",
        "2. Faça a integração numérica pela esquerda da mesma função. Compare o resultado com a integração pela direita.\n",
        "\n",
        "3. Faça a integração por trapézios. Lembre que a área de um trapézio é dada por: $A=\\frac{(a + b)h}{2}$\n",
        "\n",
        "3. Faça a integração numérica das funções trigonométricas $\\sin(x)$ e $\\cos(x)$ num período $0 < x \\leq 2\\pi$\n",
        "\n",
        "4. Faça a integração das funções hiperbólicas  $\\sinh(x)$ e $\\cosh(x)$ no intervalo $0-10$."
      ]
    },
    {
      "cell_type": "code",
      "metadata": {
        "id": "TpEjSHNGeyxa",
        "outputId": "d2602f4b-ffbc-494e-e41f-970bc373afda",
        "colab": {
          "base_uri": "https://localhost:8080/",
          "height": 198
        }
      },
      "source": [
        "sh = [math.sinh(xi) for xi in x1]\n",
        "plt.plot(x1,sh)\n",
        "plt.show()"
      ],
      "execution_count": 62,
      "outputs": [
        {
          "output_type": "error",
          "ename": "NameError",
          "evalue": "ignored",
          "traceback": [
            "\u001b[0;31m---------------------------------------------------------------------------\u001b[0m",
            "\u001b[0;31mNameError\u001b[0m                                 Traceback (most recent call last)",
            "\u001b[0;32m<ipython-input-62-c043426c6c97>\u001b[0m in \u001b[0;36m<module>\u001b[0;34m()\u001b[0m\n\u001b[0;32m----> 1\u001b[0;31m \u001b[0msh\u001b[0m \u001b[0;34m=\u001b[0m \u001b[0;34m[\u001b[0m\u001b[0mmath\u001b[0m\u001b[0;34m.\u001b[0m\u001b[0msinh\u001b[0m\u001b[0;34m(\u001b[0m\u001b[0mxi\u001b[0m\u001b[0;34m)\u001b[0m \u001b[0;32mfor\u001b[0m \u001b[0mxi\u001b[0m \u001b[0;32min\u001b[0m \u001b[0mx1\u001b[0m\u001b[0;34m]\u001b[0m\u001b[0;34m\u001b[0m\u001b[0;34m\u001b[0m\u001b[0m\n\u001b[0m\u001b[1;32m      2\u001b[0m \u001b[0mplt\u001b[0m\u001b[0;34m.\u001b[0m\u001b[0mplot\u001b[0m\u001b[0;34m(\u001b[0m\u001b[0mx1\u001b[0m\u001b[0;34m,\u001b[0m\u001b[0msh\u001b[0m\u001b[0;34m)\u001b[0m\u001b[0;34m\u001b[0m\u001b[0;34m\u001b[0m\u001b[0m\n\u001b[1;32m      3\u001b[0m \u001b[0mplt\u001b[0m\u001b[0;34m.\u001b[0m\u001b[0mshow\u001b[0m\u001b[0;34m(\u001b[0m\u001b[0;34m)\u001b[0m\u001b[0;34m\u001b[0m\u001b[0;34m\u001b[0m\u001b[0m\n",
            "\u001b[0;31mNameError\u001b[0m: name 'x1' is not defined"
          ]
        }
      ]
    },
    {
      "cell_type": "code",
      "metadata": {
        "id": "JySFkpzOXVzP",
        "outputId": "d2fd151d-4131-41be-db85-e037c1ea788c",
        "colab": {
          "base_uri": "https://localhost:8080/"
        }
      },
      "source": [
        "#Exercício 2\n",
        "\n",
        "def solve_equation(function, var, value):\n",
        "    function_x = function.replace(var, str(value))\n",
        "    return eval(function_x)\n",
        "\n",
        "def integrate_left(function, var, x0, x1, divisions=1000):\n",
        "    delta_x = (x1 - x0)/divisions\n",
        "    integral = 0\n",
        "\n",
        "    #Calculates integral\n",
        "    for i in range(divisions):\n",
        "        y = solve_equation(function, 'x', x0+(i+0)*delta_x)\n",
        "        integral += y*delta_x\n",
        "\n",
        "    return integral\n",
        "\n",
        "def integrate_right(function, var, x0, x1, divisions=1000):\n",
        "    delta_x = (x1 - x0)/divisions\n",
        "    integral = 0\n",
        "\n",
        "    #Calculates integral\n",
        "    for i in range(divisions):\n",
        "        y = solve_equation(function, 'x', x0+(i+1)*delta_x)\n",
        "        integral += y*delta_x\n",
        "\n",
        "    return integral\n",
        " \n",
        "print(\"Integração pela esquerda:\", integrate_left(\"2*x**2\", \"x\", 0, 1))\n",
        "print(\"Integração pela direita: \", integrate_right(\"2*x**2\", \"x\", 0, 1))"
      ],
      "execution_count": 47,
      "outputs": [
        {
          "output_type": "stream",
          "text": [
            "Integração pela esquerda: 0.6656670000000007\n",
            "Integração pela direita:  0.6676670000000007\n"
          ],
          "name": "stdout"
        }
      ]
    },
    {
      "cell_type": "code",
      "metadata": {
        "id": "7Dg1U8FAqKpZ",
        "outputId": "c255206e-1b1b-4007-f829-09890daf401e",
        "colab": {
          "base_uri": "https://localhost:8080/"
        }
      },
      "source": [
        "#Exercício 3\n",
        "import math\n",
        "\n",
        "def solve_equation(function, var, value):\n",
        "    function_x = function.replace(var, str(value))\n",
        "    return eval(function_x)\n",
        "\n",
        "def integrate(function, var, x0, x1, divisions=1000):\n",
        "    delta_x = (x1 - x0)/divisions\n",
        "    integral = 0\n",
        "\n",
        "    #Calculates integral\n",
        "    for i in range(divisions):\n",
        "        y0 = solve_equation(function, 'x', x0+(i+0)*delta_x)\n",
        "        y1 = solve_equation(function, 'x', x0+(i+1)*delta_x)\n",
        "        integral += (y0+y1)*delta_x/2\n",
        "\n",
        "    return integral\n",
        "\n",
        "print(\"Integração por trapézios:\", integrate(\"2*x**2\", \"x\", 0, 1))"
      ],
      "execution_count": 54,
      "outputs": [
        {
          "output_type": "stream",
          "text": [
            "Integração por trapézios: 0.6666669999999997\n"
          ],
          "name": "stdout"
        }
      ]
    },
    {
      "cell_type": "code",
      "metadata": {
        "id": "ihaXbPkvrc3z",
        "outputId": "887ed93f-a195-411a-aef0-07663a7fea22",
        "colab": {
          "base_uri": "https://localhost:8080/"
        }
      },
      "source": [
        "#Exercício 4\n",
        "\n",
        "def solve_equation(function, var, value):\n",
        "    function_x = function.replace(var, str(value))\n",
        "    return eval(function_x)\n",
        "\n",
        "def integrate(function, var, x0, x1, divisions=1000):\n",
        "    delta_x = (x1 - x0)/divisions\n",
        "    integral = 0\n",
        "\n",
        "    #Calculates integral\n",
        "    for i in range(divisions):\n",
        "        y0 = solve_equation(function, 'x', x0+(i+0)*delta_x)\n",
        "        y1 = solve_equation(function, 'x', x0+(i+1)*delta_x)\n",
        "        integral += (y0+y1)*delta_x/2\n",
        "\n",
        "    return integral\n",
        "\n",
        "print(\"Integração de sin(x) de 0 a pi:\", integrate(\"math.sin(x)\", \"x\", 0, 2*math.pi))"
      ],
      "execution_count": 56,
      "outputs": [
        {
          "output_type": "stream",
          "text": [
            "Integração de sen(x) de 0 a pi: 5.298021678486198e-17\n"
          ],
          "name": "stdout"
        }
      ]
    },
    {
      "cell_type": "code",
      "metadata": {
        "id": "nmdLmvWOsUhr",
        "outputId": "0e047a6f-35e4-43d7-f9bb-2de645ea87be",
        "colab": {
          "base_uri": "https://localhost:8080/"
        }
      },
      "source": [
        "#Exercício 5\n",
        "\n",
        "def solve_equation(function, var, value):\n",
        "    function_x = function.replace(var, str(value))\n",
        "    return eval(function_x)\n",
        "\n",
        "def integrate(function, var, x0, x1, divisions=1000):\n",
        "    delta_x = (x1 - x0)/divisions\n",
        "    integral = 0\n",
        "\n",
        "    #Calculates integral\n",
        "    for i in range(divisions):\n",
        "        y0 = solve_equation(function, 'x', x0+(i+0)*delta_x)\n",
        "        y1 = solve_equation(function, 'x', x0+(i+1)*delta_x)\n",
        "        integral += (y0+y1)*delta_x/2\n",
        "\n",
        "    return integral\n",
        "\n",
        "print(\"Integração de sinh(x) de 0 a 10:\", integrate(\"math.sinh(x)\", \"x\", 0, 10))\n",
        "print(\"Integração de cosh(x) de 0 a 10:\", integrate(\"math.cosh(x)\", \"x\", 0, 10))"
      ],
      "execution_count": 61,
      "outputs": [
        {
          "output_type": "stream",
          "text": [
            "Integração de sinh(x) de 0 a 10: 11012.32468855805\n",
            "Integração de cosh(x) de 0 a 10: 11013.324651491059\n"
          ],
          "name": "stdout"
        }
      ]
    },
    {
      "cell_type": "markdown",
      "metadata": {
        "id": "6UKLyVZ7eyxe"
      },
      "source": [
        "### Exercícios extras de resolução numérica de equações diferenciais\n",
        "\n",
        "1. Imagine que tem um/a maratonista treinando, que num trecho de $5 km$ tem velocidade quase constante de $12 km/h$. Produza uma lista distância percorrida em intervalos de 1 minuto.\n",
        "\n",
        "1. O/A mesmo/a atleta no seguinte trecho acelera por $200$ metros até chegar em $15 km/h$ por $2 km$. Queremos obter uma tabela ou gráfico da distância percorrida en função do tempo e o tempo total para chegar em $7 km$, faça isto utilizando listas.\n",
        "\n",
        "1. Considere um péndulo simples num plano. O comprimento da linha é $1$ metro, a massa é $0,2 kg$ e a aceleração de gravidade $9,8 m/s^2$. Faça um gráfico ou crie uma tabela para a posição em coordenadas cartesianas em função do tempo, utilizando listas.\n",
        "\n",
        "\n",
        "- (opcional) Pesquise sobre o pacote numpy e os objetos desse pacote chamados array, tente utilizálos ao invés de listas para resolver os exercícios.\n",
        "\n",
        "- (opcional) Pesquise sobre o pacote scipy e seu modulo integrate para resolver integrações ou equações diferenciais numéricamente.\n"
      ]
    },
    {
      "cell_type": "markdown",
      "metadata": {
        "id": "5jtFSZnpP9AV"
      },
      "source": [
        ""
      ]
    }
  ]
}