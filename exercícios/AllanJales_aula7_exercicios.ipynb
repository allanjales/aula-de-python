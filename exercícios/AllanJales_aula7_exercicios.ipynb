{
  "nbformat": 4,
  "nbformat_minor": 0,
  "metadata": {
    "kernelspec": {
      "display_name": "Python 3",
      "language": "python",
      "name": "python3"
    },
    "language_info": {
      "codemirror_mode": {
        "name": "ipython",
        "version": 3
      },
      "file_extension": ".py",
      "mimetype": "text/x-python",
      "name": "python",
      "nbconvert_exporter": "python",
      "pygments_lexer": "ipython3",
      "version": "3.6.4"
    },
    "colab": {
      "name": "AllanJales_aula7_exercicios.ipynb",
      "provenance": [],
      "collapsed_sections": [],
      "include_colab_link": true
    }
  },
  "cells": [
    {
      "cell_type": "markdown",
      "metadata": {
        "id": "view-in-github",
        "colab_type": "text"
      },
      "source": [
        "<a href=\"https://colab.research.google.com/github/allanjales/aulas-de-python/blob/master/exerc%C3%ADcios/AllanJales_aula7_exercicios.ipynb\" target=\"_parent\"><img src=\"https://colab.research.google.com/assets/colab-badge.svg\" alt=\"Open In Colab\"/></a>"
      ]
    },
    {
      "cell_type": "markdown",
      "metadata": {
        "id": "_L86htJ301CQ"
      },
      "source": [
        "## Exercícios\n",
        "\n",
        "1) A **conjectura de Collatz**, diz que \"Todos os inteiros positivos irão eventualmente convergir para 1 usando as regras do Collatz\". Faça um programa que verifique a conjectura de Collatz para alguns valores. As regras de Collatz são: Dado um número ***n***: \n",
        "   * se ***n*** for par, divida-o por ***2***;\n",
        "   * Se ***n*** for ímpar, atualize-o para 3*n + 1\n",
        "  \n",
        "  \n",
        "2) Modifique a função counter para contar o número de vezes que os dígitos 0 e 5 aparecem em um dado número n. Por exemplo, n = 10568, tem 2 dígitos 0 ou 5. \n",
        "\n",
        "3) Encapsule e generalize a seguinte declaração:"
      ]
    },
    {
      "cell_type": "code",
      "metadata": {
        "id": "5surCllG01CR",
        "outputId": "14f39311-9252-49ba-f29f-554ebdacc097",
        "colab": {
          "base_uri": "https://localhost:8080/",
          "height": 68
        }
      },
      "source": [
        "for i in [12, 16, 17, 24, 29]:\n",
        "    if i % 2 == 1:  # If the number is odd\n",
        "       break        #  ... immediately exit the loop\n",
        "    print(i)\n",
        "print(\"done\")"
      ],
      "execution_count": 45,
      "outputs": [
        {
          "output_type": "stream",
          "text": [
            "12\n",
            "16\n",
            "done\n"
          ],
          "name": "stdout"
        }
      ]
    },
    {
      "cell_type": "markdown",
      "metadata": {
        "id": "DlANgSf501CV"
      },
      "source": [
        "4) O método de Newton para raiz quadrada. Suponha que você queira calcular a raiz quadrada de ***n***. Se você começar com quase qualquer aproximação, poderá calcular uma aproximação melhor (mais próxima da resposta real) com a seguinte fórmula: melhor = (approx + n/approx)/2\n",
        "\n",
        "\n",
        "Usando um loop e repetindo esta fórmula até que a melhor aproximação se aproxime o suficiente da anterior (podemos considerar uma diferença de 0,001), podemos escrever uma função para calcular a raiz quadrada.\n",
        "\n",
        "\n",
        "Esse é um exemplo de repetição **indefinida**. Com qual tipo de loop você deve escrever o seu programa?"
      ]
    },
    {
      "cell_type": "code",
      "metadata": {
        "id": "E4_GpkMNICgY",
        "outputId": "ac15cdb6-bdc5-47a0-c062-3ece5314687b",
        "colab": {
          "base_uri": "https://localhost:8080/",
          "height": 102
        }
      },
      "source": [
        "#Exercício 1\n",
        "\n",
        "def conjectura_collatz(numero, show_print = True):\n",
        "    loops = 0\n",
        "    numero_original = numero\n",
        "    while numero != 1:\n",
        "        if (numero%2 == 0):\n",
        "            numero = numero/2\n",
        "        else:\n",
        "            numero = 3*numero + 1\n",
        "        loops += 1\n",
        "    if (show_print):\n",
        "        print(\"Para o número {:n} foram necessários {:n} loops na conjectura de collatz para chegar a 1.\".format(numero_original, loops))\n",
        "    return loops\n",
        "\n",
        "conjectura_collatz(5)\n",
        "conjectura_collatz(7)\n",
        "conjectura_collatz(9)\n",
        "conjectura_collatz(50)"
      ],
      "execution_count": 17,
      "outputs": [
        {
          "output_type": "stream",
          "text": [
            "Para o número 5 foram necessários 5 loops na conjectura de collatz para chegar a 1.\n",
            "Para o número 7 foram necessários 16 loops na conjectura de collatz para chegar a 1.\n",
            "Para o número 9 foram necessários 19 loops na conjectura de collatz para chegar a 1.\n",
            "Para o número 50 foram necessários 24 loops na conjectura de collatz para chegar a 1.\n"
          ],
          "name": "stdout"
        },
        {
          "output_type": "execute_result",
          "data": {
            "text/plain": [
              "24"
            ]
          },
          "metadata": {
            "tags": []
          },
          "execution_count": 17
        }
      ]
    },
    {
      "cell_type": "code",
      "metadata": {
        "id": "wqaDxycOK2lW",
        "outputId": "15c6ae82-0576-4742-9ed1-a51797639de7",
        "colab": {
          "base_uri": "https://localhost:8080/",
          "height": 68
        }
      },
      "source": [
        "#Exercício 2\n",
        "\n",
        "def quantos_digitos(numero, digitos, show_print = True):\n",
        "\n",
        "    #Transforma \"digitos\" em lista caso não seja\n",
        "    if not isinstance(digitos, list):\n",
        "        digitos = [digitos]\n",
        "\n",
        "    #Checa se pode haver erros\n",
        "    for digito in digitos:\n",
        "        if not isinstance(digito, int):\n",
        "            print(\"ERRO: os dígitos devem ser números inteiros\")\n",
        "            return False\n",
        "        if digito > 10:\n",
        "            print(\"ERRO: os dígitos não podem ser maiores que 9\")\n",
        "            return False\n",
        "        if digito < 0:\n",
        "            print(\"ERRO: os dígitos não podem ser menores que 0\")\n",
        "            return False\n",
        "\n",
        "    #Converte tudo para string\n",
        "    numero = str(numero)\n",
        "    for i in range(len(digitos)):\n",
        "        digitos[i] = str(digitos[i])\n",
        "\n",
        "    #Conta cada digito\n",
        "    contador = 0\n",
        "    for digito in digitos:\n",
        "        for n in numero:\n",
        "            if (n == digito):\n",
        "                contador += 1\n",
        "    if (show_print):\n",
        "        print(\"O número {} contém {:n} dos digitos selecionados.\".format(numero, contador))\n",
        "    return contador\n",
        "\n",
        "quantos_digitos(10568, [0,5])\n",
        "quantos_digitos(105154668, [6,5,0])"
      ],
      "execution_count": 42,
      "outputs": [
        {
          "output_type": "stream",
          "text": [
            "O número 10568 contém 2 dos digitos selecionados.\n",
            "O número 105154668 contém 5 dos digitos selecionados.\n"
          ],
          "name": "stdout"
        },
        {
          "output_type": "execute_result",
          "data": {
            "text/plain": [
              "5"
            ]
          },
          "metadata": {
            "tags": []
          },
          "execution_count": 42
        }
      ]
    },
    {
      "cell_type": "code",
      "metadata": {
        "id": "YeHsPvMBPc7U",
        "outputId": "566fa07a-e1ea-4b5f-cf1e-ddfa1745cdca",
        "colab": {
          "base_uri": "https://localhost:8080/",
          "height": 68
        }
      },
      "source": [
        "#Exercício 3\n",
        "\n",
        "def has_odd(numbers):\n",
        "    for number in numbers:\n",
        "        if number % 2 == 1:\n",
        "            break\n",
        "        print(\"Number {:n} is odd.\".format(number))\n",
        "    print(\"Done\")\n",
        "\n",
        "has_odd([12, 16, 17, 24, 29])"
      ],
      "execution_count": 50,
      "outputs": [
        {
          "output_type": "stream",
          "text": [
            "Number 12 is odd.\n",
            "Number 16 is odd.\n",
            "Done\n"
          ],
          "name": "stdout"
        }
      ]
    },
    {
      "cell_type": "code",
      "metadata": {
        "id": "LEtfh75FQ9LQ",
        "outputId": "ff38e7e4-afc3-4b3b-d98f-33b5b571f711",
        "colab": {
          "base_uri": "https://localhost:8080/",
          "height": 51
        }
      },
      "source": [
        "#Exercício 3 v2\n",
        "\n",
        "def has_odd(numbers):\n",
        "    for number in numbers:\n",
        "        if number % 2 == 1:\n",
        "            print(\"Number {:n} is odd.\".format(number))\n",
        "            break\n",
        "    print(\"Done\")\n",
        "\n",
        "has_odd([12, 16, 17, 24, 29])"
      ],
      "execution_count": 47,
      "outputs": [
        {
          "output_type": "stream",
          "text": [
            "Number 17 is odd.\n",
            "Done\n"
          ],
          "name": "stdout"
        }
      ]
    },
    {
      "cell_type": "code",
      "metadata": {
        "id": "zitdIaNaRRga",
        "outputId": "0ec08dd3-dbcb-40d5-f24f-b1fdda20e1b2",
        "colab": {
          "base_uri": "https://localhost:8080/",
          "height": 136
        }
      },
      "source": [
        "#Exercício 4\n",
        "import math\n",
        "\n",
        "def raiz_quadrada(n, approx = 1):\n",
        "    loops = 0\n",
        "    while abs(math.sqrt(n) - approx) > 0.001:\n",
        "        approx = (approx + n/approx)/2\n",
        "        loops += 1\n",
        "    print(\"Em {:n} loops o resultado da raiz quadrada de {:n} foi {:n}, com apenas {:f} de diferença do resultado real\".format(loops, n, approx, abs(math.sqrt(n) - approx)))\n",
        "    return approx\n",
        "\n",
        "raiz_quadrada(2, 1)\n",
        "raiz_quadrada(3, 1)\n",
        "raiz_quadrada(5, 1)\n",
        "raiz_quadrada(7, 1)\n",
        "raiz_quadrada(28, 1)\n",
        "raiz_quadrada(1036, 1)"
      ],
      "execution_count": 71,
      "outputs": [
        {
          "output_type": "stream",
          "text": [
            "Em 3 loops o resultado da raiz quadrada de 2 foi 1.41422, com apenas 0.000002 de diferença do resultado real\n",
            "Em 3 loops o resultado da raiz quadrada de 3 foi 1.73214, com apenas 0.000092 de diferença do resultado real\n",
            "Em 4 loops o resultado da raiz quadrada de 5 foi 2.23607, com apenas 0.000001 de diferença do resultado real\n",
            "Em 4 loops o resultado da raiz quadrada de 7 foi 2.64577, com apenas 0.000016 de diferença do resultado real\n",
            "Em 5 loops o resultado da raiz quadrada de 28 foi 5.29155, com apenas 0.000051 de diferença do resultado real\n",
            "Em 8 loops o resultado da raiz quadrada de 1036 foi 32.187, com apenas 0.000008 de diferença do resultado real\n"
          ],
          "name": "stdout"
        },
        {
          "output_type": "execute_result",
          "data": {
            "text/plain": [
              "32.18696178810451"
            ]
          },
          "metadata": {
            "tags": []
          },
          "execution_count": 71
        }
      ]
    }
  ]
}