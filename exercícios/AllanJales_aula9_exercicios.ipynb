{
  "nbformat": 4,
  "nbformat_minor": 0,
  "metadata": {
    "kernelspec": {
      "display_name": "Python 3",
      "language": "python",
      "name": "python3"
    },
    "language_info": {
      "codemirror_mode": {
        "name": "ipython",
        "version": 3
      },
      "file_extension": ".py",
      "mimetype": "text/x-python",
      "name": "python",
      "nbconvert_exporter": "python",
      "pygments_lexer": "ipython3",
      "version": "3.7.0"
    },
    "colab": {
      "name": "AllanJales_aula9_exercicios.ipynb",
      "provenance": [],
      "collapsed_sections": [],
      "include_colab_link": true
    }
  },
  "cells": [
    {
      "cell_type": "markdown",
      "metadata": {
        "id": "view-in-github",
        "colab_type": "text"
      },
      "source": [
        "<a href=\"https://colab.research.google.com/github/allanjales/aulas-de-python/blob/master/exerc%C3%ADcios/AllanJales_aula9_exercicios.ipynb\" target=\"_parent\"><img src=\"https://colab.research.google.com/assets/colab-badge.svg\" alt=\"Open In Colab\"/></a>"
      ]
    },
    {
      "cell_type": "markdown",
      "metadata": {
        "id": "E9ITlrNBiutZ"
      },
      "source": [
        "## Exercícios\n",
        "\n",
        "1) Considere a função abaixo. Esse tipo de função é considerada uma **função modificadora** pois modifica o objeto que é passado como argumento. "
      ]
    },
    {
      "cell_type": "code",
      "metadata": {
        "id": "iKwmsYgeiutZ"
      },
      "source": [
        "def dobrar_elementos(uma_lista):\n",
        "    \"\"\" Reescreve os elementos de uma_lista com o dobro de seus valores originais.\n",
        "    \"\"\"\n",
        "    for (i, valor) in enumerate(uma_lista):\n",
        "        novo_elem = 2 * valor\n",
        "        uma_lista[i] = novo_elem\n",
        "\n",
        "    return uma_lista\n",
        "\n",
        "minha_lista = [2, 4, 6]\n",
        "print(minha_lista)\n",
        "dobrar_elementos(minha_lista)\n",
        "print(minha_lista)"
      ],
      "execution_count": null,
      "outputs": []
    },
    {
      "cell_type": "markdown",
      "metadata": {
        "id": "i23JYSmRiutb"
      },
      "source": [
        "a) Modifique a função para retornar uma **nova lista**, sem modificar a lista usada como parâmetro. Esse tipo de função é chamado de **função pura**.\n",
        "\n",
        "\n",
        "b) Modifique a documentação de ajuda da nova função, de tal forma que quando se chame a função ***help*** da nova função, se obtenha a descrição adequada."
      ]
    },
    {
      "cell_type": "code",
      "metadata": {
        "id": "QYiu-17tqyyH",
        "outputId": "ce95b33b-d359-468e-cd0d-ec29ccc7cab7",
        "colab": {
          "base_uri": "https://localhost:8080/",
          "height": 68
        }
      },
      "source": [
        "#Exercício a\n",
        "\n",
        "def dobrar_elementos(uma_lista):\n",
        "    \"\"\"Retorna uma nova lista com os elementos numéricos do argumento dobrados.\"\"\"\n",
        "    nova_lista = uma_lista[:]\n",
        "    for (i, valor) in enumerate(nova_lista):\n",
        "        novo_elem = 2 * valor\n",
        "        nova_lista[i] = novo_elem\n",
        "\n",
        "    return nova_lista\n",
        "\n",
        "minha_lista = [2, 4, 6]\n",
        "print(minha_lista)\n",
        "print(dobrar_elementos(minha_lista))\n",
        "print(minha_lista)"
      ],
      "execution_count": null,
      "outputs": [
        {
          "output_type": "stream",
          "text": [
            "[2, 4, 6]\n",
            "[4, 8, 12]\n",
            "[2, 4, 6]\n"
          ],
          "name": "stdout"
        }
      ]
    },
    {
      "cell_type": "code",
      "metadata": {
        "id": "RgYPzOGCiutc",
        "outputId": "fb2119b3-94bd-4676-aa30-381747eef663",
        "colab": {
          "base_uri": "https://localhost:8080/",
          "height": 102
        }
      },
      "source": [
        "#Exercício b\n",
        "\n",
        "help(dobrar_elementos)"
      ],
      "execution_count": null,
      "outputs": [
        {
          "output_type": "stream",
          "text": [
            "Help on function dobrar_elementos in module __main__:\n",
            "\n",
            "dobrar_elementos(uma_lista)\n",
            "    Retorna uma nova lista com os elementos numéricos do argumento dobrados.\n",
            "\n"
          ],
          "name": "stdout"
        }
      ]
    },
    {
      "cell_type": "code",
      "metadata": {
        "id": "CSQYWxVcw23K",
        "outputId": "6388a82d-aebb-44bc-b150-39339df9077b",
        "colab": {
          "base_uri": "https://localhost:8080/"
        }
      },
      "source": [
        "# Escreve um arquivo .txt\n",
        "%%writefile dados_alunos.txt\n",
        "Estudante\tIdade\tMassa\tAltura\n",
        "1\t17\t48\t163\n",
        "2\t22\t135\t179\n",
        "3\t21\t72\t181\n",
        "4\t18\t80\t175\n",
        "5\t18\t65\t177\n",
        "6\t22\t58\t166\n",
        "7\t19\t68\t179\n",
        "8\t18\t55\t170\n",
        "9\t18\t70\t167\n",
        "10\t20\t84\t180\n",
        "11\t18\t68\t165\n",
        "12\t19\t71\t182\n",
        "13\t20\t57\t168\n",
        "14\t19\t68\t170\n",
        "15\t18\t66\t170\n",
        "16\t18\t110\t165\n",
        "17\t20\t69\t168\n",
        "18\t25\t85\t180\n",
        "19\t19\t62\t180\n",
        "20\t18\t80\t184\n",
        "21\t35\t98\t179\n",
        "22\t17\t63\t175\n",
        "23\t19\t86\t180\n",
        "24\t22\t74\t175\n",
        "25\t19\t70\t172\n",
        "26\t23\t70\t170\n",
        "27\t18\t57\t168"
      ],
      "execution_count": 7,
      "outputs": [
        {
          "output_type": "stream",
          "text": [
            "Overwriting dados_alunos.txt\n"
          ],
          "name": "stdout"
        }
      ]
    },
    {
      "cell_type": "code",
      "metadata": {
        "id": "rkhla4gTyixM",
        "outputId": "e372ab86-de63-4732-efc1-e876df72f912",
        "colab": {
          "base_uri": "https://localhost:8080/"
        }
      },
      "source": [
        "%%writefile lcount.py\n",
        "def linecount(filename):\n",
        "    count = 0\n",
        "    for line in open(filename):\n",
        "        count += 1\n",
        "    return count"
      ],
      "execution_count": 3,
      "outputs": [
        {
          "output_type": "stream",
          "text": [
            "Writing lcount.py\n"
          ],
          "name": "stdout"
        }
      ]
    },
    {
      "cell_type": "markdown",
      "metadata": {
        "id": "LkKV2_H23Ts1"
      },
      "source": [
        "## Exercícios:\n",
        "\n",
        "1) Utilizando um arquivo de dados com várias colunas (por exemplo, o arquivo ```dados_alunos.txt```), faça um histograma com os dados de cada uma das colunas. **Dica**: utilize o ***matplotlib*** para fazer os histogramas.\n",
        "\n",
        "2) Estude os métodos do módulo ```os``` e faça um script que liste todos os arquivos de um dado diretório assim como de seus subdiretórios. **Dica**: use o método ```walk```.\n",
        "\n",
        "3) **Reescreva o script dessa aula, ```lcount.py``` na forma de uma módulo. Qual o valor da variável ```__name__``` quando o módulo é importado?**\n",
        "\n",
        "4) Escreva uma função chamada ler_arquivos que tome como argumento um nome de arquivo, leia um arquivo com um número qualquer de colunas e retorne um **dicionário** que tenha como *keys* os números das colunas e como valor uma lista dos valores associados a cada coluna do arquivo. Use o arquivo dados_alunos.txt. Caso o arquivo tiver o cabeçalho das colunas, p.ex. dados_alunos_cabecalho.txt, a key deve ser a palavra do cabeçalho.\n",
        "\n",
        "   * Caso não queria usar dicionários, você pode pensar em uma estrutura de dados alternativa para armazenar os dados do arquivo, como por exemplo uma ou mais listas.\n",
        "   * Também pode usar funções já existentes nos módulos de Python `numpy` ou `pandas` para ler arquivos de texto e armazenar nas estruturas desses módulos (`DataFrames` ou `arrays`).\n",
        "   * Adapte a função acima para, se ocorrer um erro ao abrir, ler ou fechar arquivos, o programa capturar a exceção, imprimir uma mensagem de erro e sair.\n",
        "\n",
        "5) **Adapte o script acima para ser um módulo.**\n",
        "\n",
        "**6) Escreva um script que importe o módulo criado acima e faça um histograma para cada coluna do arquivo, com seus respectivos valores. Use o dicionário ou a estrutura de dados criada em 1).**\n",
        "\n",
        "7) Adicione uma função ao script criado em 6), que calcule o desvio padrão amostral, desvio padrão populacional e média de cada distribuição representada nos histogramas acima. Para tal, use o módulo `statistics` do Python ou outro módulo de Python (`numpy`, `scipy`)."
      ]
    },
    {
      "cell_type": "code",
      "metadata": {
        "id": "TCw4OzaAyuhs",
        "outputId": "f70e8aa0-490d-4011-a505-7b0120f7843b",
        "colab": {
          "base_uri": "https://localhost:8080/",
          "height": 803
        }
      },
      "source": [
        "#Exercício 1\n",
        "import matplotlib.pyplot as plt\n",
        "import re\n",
        "\n",
        "#File name\n",
        "input_file = 'dados_alunos.txt'\n",
        "\n",
        "data = {\n",
        "    'id': [],\n",
        "    'idade': [],\n",
        "    'massa': [],\n",
        "    'altura': []\n",
        "}\n",
        "\n",
        "with open(input_file, \"r\") as file:\n",
        "    for line in file:\n",
        "        #Get values in this line\n",
        "        column = line.strip().split('\\t')\n",
        "        \n",
        "        #If has information on this line\n",
        "        if re.fullmatch('[\\d\\t]+\\n*', line) is not None:\n",
        "            data['id'].append(int(column[0]))\n",
        "            data['idade'].append(int(column[1]))\n",
        "            data['massa'].append(int(column[2]))\n",
        "            data['altura'].append(int(column[3]))\n",
        "    file.close()\n",
        "\n",
        "#Plot graph\n",
        "def plot_hist(x, label_x, label_y):\n",
        "    plt.hist(x)\n",
        "    plt.xlabel(label_x)\n",
        "    plt.ylabel(label_y)\n",
        "    plt.show()\n",
        "\n",
        "plot_hist(data['idade'],  \"Idade [anos]\", \"Frequência\")\n",
        "plot_hist(data['massa'],  \"Massa [kg]\",   \"Frequência\")\n",
        "plot_hist(data['altura'], \"Altura [m]\",   \"Frequência\")"
      ],
      "execution_count": 22,
      "outputs": [
        {
          "output_type": "display_data",
          "data": {
            "image/png": "[encoded data removed]",
            "text/plain": [
              "<Figure size 432x288 with 1 Axes>"
            ]
          },
          "metadata": {
            "tags": [],
            "needs_background": "light"
          }
        },
        {
          "output_type": "display_data",
          "data": {
            "image/png": "[encoded data removed]",
            "text/plain": [
              "<Figure size 432x288 with 1 Axes>"
            ]
          },
          "metadata": {
            "tags": [],
            "needs_background": "light"
          }
        },
        {
          "output_type": "display_data",
          "data": {
            "image/png": "[encoded data removed]",
            "text/plain": [
              "<Figure size 432x288 with 1 Axes>"
            ]
          },
          "metadata": {
            "tags": [],
            "needs_background": "light"
          }
        }
      ]
    },
    {
      "cell_type": "code",
      "metadata": {
        "id": "F0Lf8O-AIhJO",
        "outputId": "aacd6247-ca2a-4ead-a6ca-b5d1c95935a0",
        "colab": {
          "base_uri": "https://localhost:8080/"
        }
      },
      "source": [
        "#Exercício 2\n",
        "import os\n",
        "\n",
        "#List every file in this directory\n",
        "def search_in_dir(directory_name):\n",
        "    for (dirpath, dirnames, filenames) in os.walk(directory_name):\n",
        "        #dirpath is the path of current directory\n",
        "        #dirnames represents all subdirectories inside current directory\n",
        "        #filenames represents all files in current directory\n",
        "\n",
        "        print(\"Directory name:\", directory_name)\n",
        "\n",
        "        print(\"\\nList of subdirectories:\")\n",
        "        for dirname in dirnames:\n",
        "            print('>', dirname)\n",
        "\n",
        "        print(\"\\nList of files:\")\n",
        "        for filename in filenames:\n",
        "            print('>', filename)\n",
        "\n",
        "        #Do not look inside subdirectories\n",
        "        break\n",
        "   \n",
        "#Search in current directory\n",
        "search_in_dir('.')"
      ],
      "execution_count": 74,
      "outputs": [
        {
          "output_type": "stream",
          "text": [
            "Directory name: .\n",
            "\n",
            "List of subdirectories:\n",
            "> .config\n",
            "> __pycache__\n",
            "> sample_data\n",
            "\n",
            "List of files:\n",
            "> dados_alunos.txt\n",
            "> lcount.py\n"
          ],
          "name": "stdout"
        }
      ]
    },
    {
      "cell_type": "code",
      "metadata": {
        "id": "93k7vCHpPYSk",
        "outputId": "3afe6e5a-ecaa-4c62-f038-ae6c58549b37",
        "colab": {
          "base_uri": "https://localhost:8080/"
        }
      },
      "source": [
        "#Exercício 3\n",
        "import lcount\n",
        "\n",
        "print(__name__)\n",
        "print(lcount.linecount('dados_alunos.txt'))"
      ],
      "execution_count": 78,
      "outputs": [
        {
          "output_type": "stream",
          "text": [
            "__main__\n",
            "28\n"
          ],
          "name": "stdout"
        }
      ]
    },
    {
      "cell_type": "code",
      "metadata": {
        "id": "nF3ykvgeqJMx",
        "outputId": "e2438404-8312-4262-8864-a06d9e938723",
        "colab": {
          "base_uri": "https://localhost:8080/"
        }
      },
      "source": [
        "#Exercício 4\n",
        "\n",
        "def read_file(file_path, has_header = True, convert_to_int = True):\n",
        "    \"\"\"\n",
        "    Return a dictionary of arrays associating each column with data.\n",
        "    \n",
        "    Keys of this dictionary are columns if has_header == True or numbers if has_header == False\n",
        "    If convert_to_int == True it converts all data to int\n",
        "    \"\"\"\n",
        "    #Create dictionary\n",
        "    dictionary = {}\n",
        "    column_titles = []\n",
        "\n",
        "    #Read every line of file\n",
        "    with open(file_path, \"r\") as file:\n",
        "        for line in file:\n",
        "            columns = line.strip().split('\\t')\n",
        "\n",
        "            if not has_header:\n",
        "                for number in range(len(columns)):\n",
        "                    dictionary[column] = []\n",
        "                    column_titles.append(number)\n",
        "\n",
        "\n",
        "            if not dictionary:\n",
        "                #Define dictionary keys and associate column number to key\n",
        "                for column in columns:\n",
        "                    dictionary[column] = []\n",
        "                    column_titles.append(column)\n",
        "            else:\n",
        "                #Define dictionary data\n",
        "                for number, column in enumerate(columns):\n",
        "                    if convert_to_int:\n",
        "                        dictionary[column_titles[number]].append(int(column))\n",
        "                    else:\n",
        "                        dictionary[column_titles[number]].append(column)\n",
        "        return dictionary\n",
        "        file.close()\n",
        "    return False\n",
        "\n",
        "results = read_file('dados_alunos.txt')\n",
        "\n",
        "for result in results:\n",
        "    print(result, '=', results[result])"
      ],
      "execution_count": 60,
      "outputs": [
        {
          "output_type": "stream",
          "text": [
            "Estudante = [1, 2, 3, 4, 5, 6, 7, 8, 9, 10, 11, 12, 13, 14, 15, 16, 17, 18, 19, 20, 21, 22, 23, 24, 25, 26, 27]\n",
            "Idade = [17, 22, 21, 18, 18, 22, 19, 18, 18, 20, 18, 19, 20, 19, 18, 18, 20, 25, 19, 18, 35, 17, 19, 22, 19, 23, 18]\n",
            "Massa = [48, 135, 72, 80, 65, 58, 68, 55, 70, 84, 68, 71, 57, 68, 66, 110, 69, 85, 62, 80, 98, 63, 86, 74, 70, 70, 57]\n",
            "Altura = [163, 179, 181, 175, 177, 166, 179, 170, 167, 180, 165, 182, 168, 170, 170, 165, 168, 180, 180, 184, 179, 175, 180, 175, 172, 170, 168]\n"
          ],
          "name": "stdout"
        }
      ]
    },
    {
      "cell_type": "code",
      "metadata": {
        "id": "17GeRi1Fx1mU",
        "outputId": "d01fa69f-5d7c-4f91-a11d-28ae375c0917",
        "colab": {
          "base_uri": "https://localhost:8080/"
        }
      },
      "source": [
        "#Exercício 5\n",
        "\n",
        "%%writefile read_file.py\n",
        "def read_file(file_path, has_header = True, convert_to_int = True):\n",
        "    \"\"\"\n",
        "    Return a dictionary of arrays associating each column with data.\n",
        "    \n",
        "    Keys of this dictionary are columns if has_header == True or numbers if has_header == False\n",
        "    If convert_to_int == True it converts all data to int\n",
        "    \"\"\"\n",
        "    #Create dictionary\n",
        "    dictionary = {}\n",
        "    column_titles = []\n",
        "\n",
        "    #Read every line of file\n",
        "    with open(file_path, \"r\") as file:\n",
        "        for line in file:\n",
        "            columns = line.strip().split('\\t')\n",
        "\n",
        "            if not has_header:\n",
        "                for number in range(len(columns)):\n",
        "                    dictionary[column] = []\n",
        "                    column_titles.append(number)\n",
        "\n",
        "\n",
        "            if not dictionary:\n",
        "                #Define dictionary keys and associate column number to key\n",
        "                for column in columns:\n",
        "                    dictionary[column] = []\n",
        "                    column_titles.append(column)\n",
        "            else:\n",
        "                #Define dictionary data\n",
        "                for number, column in enumerate(columns):\n",
        "                    if convert_to_int:\n",
        "                        dictionary[column_titles[number]].append(int(column))\n",
        "                    else:\n",
        "                        dictionary[column_titles[number]].append(column)\n",
        "        return dictionary\n",
        "        file.close()\n",
        "    return False"
      ],
      "execution_count": 8,
      "outputs": [
        {
          "output_type": "stream",
          "text": [
            "Overwriting read_file.py\n"
          ],
          "name": "stdout"
        }
      ]
    },
    {
      "cell_type": "code",
      "metadata": {
        "id": "G7xIRtt3x_Ok",
        "outputId": "5e7bb3e3-d854-4d69-b03f-aedc567060ac",
        "colab": {
          "base_uri": "https://localhost:8080/",
          "height": 803
        }
      },
      "source": [
        "#Exercício 6\n",
        "import read_file\n",
        "import matplotlib.pyplot as plt\n",
        "\n",
        "#Plot graph\n",
        "def plot_hist(x, label_x, label_y):\n",
        "    plt.hist(x)\n",
        "    plt.xlabel(label_x)\n",
        "    plt.ylabel(label_y)\n",
        "    plt.show()\n",
        "\n",
        "data = read_file.read_file('dados_alunos.txt')\n",
        "\n",
        "plot_hist(data['Idade'],  \"Idade [anos]\", \"Frequência\")\n",
        "plot_hist(data['Massa'],  \"Massa [kg]\",   \"Frequência\")\n",
        "plot_hist(data['Altura'], \"Altura [m]\",   \"Frequência\")"
      ],
      "execution_count": 6,
      "outputs": [
        {
          "output_type": "display_data",
          "data": {
            "image/png": "[encoded data removed]",
            "text/plain": [
              "<Figure size 432x288 with 1 Axes>"
            ]
          },
          "metadata": {
            "tags": [],
            "needs_background": "light"
          }
        },
        {
          "output_type": "display_data",
          "data": {
            "image/png": "[encoded data removed]",
            "text/plain": [
              "<Figure size 432x288 with 1 Axes>"
            ]
          },
          "metadata": {
            "tags": [],
            "needs_background": "light"
          }
        },
        {
          "output_type": "display_data",
          "data": {
            "image/png": "[encoded data removed]",
            "text/plain": [
              "<Figure size 432x288 with 1 Axes>"
            ]
          },
          "metadata": {
            "tags": [],
            "needs_background": "light"
          }
        }
      ]
    },
    {
      "cell_type": "code",
      "metadata": {
        "id": "BFujI3ekQ1NQ",
        "outputId": "bcd39895-2f95-42f5-c62c-ed0294204710",
        "colab": {
          "base_uri": "https://localhost:8080/"
        }
      },
      "source": [
        "#Exercício 7\n",
        "import read_file\n",
        "import statistics\n",
        "# desvio padrão amostral, desvio padrão populacional e média\n",
        "\n",
        "data = read_file.read_file('dados_alunos.txt')\n",
        "\n",
        "for i in data:\n",
        "    print('{}:'.format(i))\n",
        "    print('----------------------------')\n",
        "    print('Média:                      {}'.format(statistics.mean(data[i])))\n",
        "    print('Desvio padrão amostral:     {}'.format(statistics.stdev(data[i])))\n",
        "    print('Desvio padrão populacional: {}'.format(statistics.pstdev(data[i])))\n",
        "    print('----------------------------')\n"
      ],
      "execution_count": 23,
      "outputs": [
        {
          "output_type": "stream",
          "text": [
            "Estudante:\n",
            "----------------------------\n",
            "Média:                      14\n",
            "Desvio padrão amostral:     7.937253933193772\n",
            "Desvio padrão populacional: 7.788880963698615\n",
            "----------------------------\n",
            "Idade:\n",
            "----------------------------\n",
            "Média:                      20\n",
            "Desvio padrão amostral:     3.573406045949826\n",
            "Desvio padrão populacional: 3.5066075195687776\n",
            "----------------------------\n",
            "Massa:\n",
            "----------------------------\n",
            "Média:                      73.66666666666667\n",
            "Desvio padrão amostral:     18.083141320025124\n",
            "Desvio padrão populacional: 17.745108872274887\n",
            "----------------------------\n",
            "Altura:\n",
            "----------------------------\n",
            "Média:                      173.62962962962962\n",
            "Desvio padrão amostral:     6.239749428821075\n",
            "Desvio padrão populacional: 6.123108313461501\n",
            "----------------------------\n"
          ],
          "name": "stdout"
        }
      ]
    }
  ]
}