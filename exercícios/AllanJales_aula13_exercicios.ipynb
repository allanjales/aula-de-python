{
  "nbformat": 4,
  "nbformat_minor": 0,
  "metadata": {
    "colab": {
      "name": "AllanJales_aula13_exercicios.ipynb",
      "provenance": [],
      "include_colab_link": true
    },
    "kernelspec": {
      "display_name": "Python 3",
      "language": "python",
      "name": "python3"
    },
    "language_info": {
      "codemirror_mode": {
        "name": "ipython",
        "version": 3
      },
      "file_extension": ".py",
      "mimetype": "text/x-python",
      "name": "python",
      "nbconvert_exporter": "python",
      "pygments_lexer": "ipython3",
      "version": "3.6.4"
    }
  },
  "cells": [
    {
      "cell_type": "markdown",
      "metadata": {
        "id": "view-in-github",
        "colab_type": "text"
      },
      "source": [
        "<a href=\"https://colab.research.google.com/github/allanjales/aulas-de-python/blob/master/exerc%C3%ADcios/AllanJales_aula13_exercicios.ipynb\" target=\"_parent\"><img src=\"https://colab.research.google.com/assets/colab-badge.svg\" alt=\"Open In Colab\"/></a>"
      ]
    },
    {
      "cell_type": "markdown",
      "metadata": {
        "id": "EdYNQfYbEnk_"
      },
      "source": [
        "# Exercícios da aula passada:\n",
        "\n",
        "1) Escreva uma função que calcula a distância entre dois pontos, usando a classe Ponto que fizemos nessa aula.\n",
        "\n",
        "2) Adicione um método reflexao_x à classe Ponto que retorna uma instância de Ponto, que é o reflexo do Ponto sobre o eixo x. Por exemplo, Point (3, 5) .reflexao_x () é (3, -5)\n",
        "\n",
        "3) Adicione um método ***inclinacao_da_origem*** à classe Ponto, que retorne a inclinação da linha que une a origem ao Ponto. Por exemplo,"
      ]
    },
    {
      "cell_type": "code",
      "metadata": {
        "id": "G-VQ94VsEnlA",
        "outputId": "3b2617fc-9324-4c2d-ab5a-90bad113db4e"
      },
      "source": [
        "from Ponto import *\n",
        "Ponto(4, 10).inclinacao_origem()"
      ],
      "execution_count": null,
      "outputs": [
        {
          "output_type": "execute_result",
          "data": {
            "text/plain": [
              "2.5"
            ]
          },
          "metadata": {
            "tags": []
          },
          "execution_count": 5
        }
      ]
    },
    {
      "cell_type": "markdown",
      "metadata": {
        "id": "3kAzsBogEnlC"
      },
      "source": [
        "O que pode dar errado com esse programa?\n",
        "\n",
        "4) A equação de uma linha reta é “y = ax + b”. Os coeficientes a e b descrevem completamente a linha. Escreva um método na classe Ponto para que, se uma instância Ponto receber outro Ponto, calcule a equação da linha reta que une os dois pontos. Deve retornar os dois coeficientes como uma tupla de dois valores. Por exemplo,"
      ]
    },
    {
      "cell_type": "code",
      "metadata": {
        "id": "ahwUGU-nEnlC",
        "outputId": "15a68a85-9822-411f-a829-5bbb37e4dc9f"
      },
      "source": [
        "from Ponto import *\n",
        "print(Ponto(4,11).parametros_reta(Ponto(6,15)))"
      ],
      "execution_count": null,
      "outputs": [
        {
          "output_type": "stream",
          "text": [
            "(2.0, 3.0)\n"
          ],
          "name": "stdout"
        }
      ]
    },
    {
      "cell_type": "markdown",
      "metadata": {
        "id": "K1AY0_vQEnlD"
      },
      "source": [
        "O resultado acima nos diz que a equação da reta é y = 2x + 3. Quando esse método falha?"
      ]
    },
    {
      "cell_type": "code",
      "metadata": {
        "id": "KZK1p4V6veGi"
      },
      "source": [
        "class Ponto:\n",
        "    \"\"\" Cria um novo Ponto, com coordenadas x, y \"\"\"\n",
        "\n",
        "    def __init__(self, x=0, y=0):\n",
        "        \"\"\" Inicializa em x, y o novo ponto criado pela classe \"\"\"\n",
        "        self.x = x\n",
        "        self.y = y\n",
        "\n",
        "    def distancia_da_origem(self):\n",
        "        \"\"\" Calcula minha distânica da origem \"\"\"\n",
        "        return ((self.x ** 2) + (self.y ** 2)) ** 0.5\n",
        "    \n",
        "    def ponto_medio(self, alvo):\n",
        "        \"\"\" Retorna o ponto medio entre esse ponto e o alvo \"\"\"\n",
        "        mx = (self.x + alvo.x)/2\n",
        "        my = (self.y + alvo.y)/2\n",
        "        return Ponto(mx, my)\n",
        "    \n",
        "    def reflexao_x(self):\n",
        "        \"\"\" Retorna o ponto refletido no eixo x \"\"\"\n",
        "        return Ponto(self.x, -self.y)\n",
        "\n",
        "    def inclinacao_origem(self):\n",
        "        \"\"\" Retorna a inclinação da linha que une a origem ao Ponto \"\"\"\n",
        "        if self.x == 0:\n",
        "            return False\n",
        "        return self.y/self.x\n",
        "    \n",
        "    def parametros_reta(self, alvo):\n",
        "        \"\"\" Retorna em tupla os coeficientes de uma reta dado um segundo ponto alvo \"\"\"\n",
        "        a = (alvo.y - self.y)/(alvo.x - self.x)\n",
        "        b = self.y - self.x*a\n",
        "        return (a, b)\n",
        "\n",
        "    def __str__(self):\n",
        "        return \"({0}, {1})\".format(self.x, self.y)"
      ],
      "execution_count": null,
      "outputs": []
    },
    {
      "cell_type": "markdown",
      "metadata": {
        "id": "EwvQUSAVEnlD"
      },
      "source": [
        "# Exercícios da aula de hoje:\n",
        "\n",
        "5) Usando a classe **Ponto** criada na última aula escreva uma classe **Retangulo**. A definição da classe Retangulo é:\n",
        "**Dica**: use o método criado no exercício 1)."
      ]
    },
    {
      "cell_type": "code",
      "metadata": {
        "id": "TtQKKKt8EnlD"
      },
      "source": [
        "class Rectangle:\n",
        "    \"\"\"Representa um retangulo. \n",
        "\n",
        "    atributos: \n",
        "    - largura, do tipo float\n",
        "    - altura, do tipo float \n",
        "    - canto, do tipo Ponto.\n",
        "    \"\"\""
      ],
      "execution_count": null,
      "outputs": []
    },
    {
      "cell_type": "code",
      "metadata": {
        "colab": {
          "base_uri": "https://localhost:8080/"
        },
        "id": "R4kZUx4YvAeO",
        "outputId": "c07126a9-63b1-4728-cc77-f60ec623b2c3"
      },
      "source": [
        "# Exerício 5\n",
        "\n",
        "class Rectangle:\n",
        "    \"\"\"Representa um retangulo. \n",
        "\n",
        "    atributos: \n",
        "    - largura, do tipo float\n",
        "    - altura, do tipo float \n",
        "    - canto, do tipo Ponto.\n",
        "    \"\"\"\n",
        "\n",
        "    def __init__(self, canto, largura=0, altura=0):\n",
        "        \"\"\" Inicializa o novo retângulo no ponto \"\"\"\n",
        "        self.canto = canto\n",
        "        self.largura = largura\n",
        "        self.altura = altura\n",
        "\n",
        "    def __str__(self):\n",
        "        return \"(({0}, {1}), {2}, {3})\".format(self.canto.x, self.canto.y, self.largura, self.altura)\n",
        "\n",
        "print(Rectangle(Ponto(3,4), 3, 4))"
      ],
      "execution_count": null,
      "outputs": [
        {
          "output_type": "stream",
          "text": [
            "((3, 4), 3, 4)\n"
          ],
          "name": "stdout"
        }
      ]
    },
    {
      "cell_type": "markdown",
      "metadata": {
        "id": "JGuVeaQgEnlD"
      },
      "source": [
        "6) Escreva uma definição para uma classe chamada **Circulo** com atributos ***centro*** e ***raio***, em que ***centro*** é um objeto do tipo **Ponto** e ***raio*** é um número.\n",
        "   * Instancie um objeto **Circulo** que represente um círculo com seu centro em (150, 100) e raio 75 e imprima na tela as coordenadas (x,y) do centro do círculo.\n",
        "   * Escreva uma função chamada ponto_no_circulo que use um Circulo e um Ponto e retorne True se o Ponto estiver dentro do círculo ou no limite do mesmo.\n",
        "   \n",
        "7) Escreva uma função chamada **desenhar_ret** que use um objeto ***Turtle*** e um ***Retangulo*** e use o Turtle para desenhar o retângulo.\n",
        "\n",
        "8) Escreva uma função chamada desenhar_circulo que use uma ***Turtle*** e um ***Circulo*** e desenhe o ***Circulo***."
      ]
    },
    {
      "cell_type": "code",
      "metadata": {
        "colab": {
          "base_uri": "https://localhost:8080/"
        },
        "id": "DpkFyT6kEnlD",
        "outputId": "59e1470b-4b49-4087-d99e-3695813edefd"
      },
      "source": [
        "# Exerício 6\n",
        "\n",
        "class Circle:\n",
        "    \"\"\"Representa um círculo. \n",
        "\n",
        "    atributos: \n",
        "    - centro, do tipo Ponto\n",
        "    - raio, do tipo float\n",
        "    \"\"\"\n",
        "\n",
        "    def __init__(self, centro, raio=0):\n",
        "        \"\"\" Inicializa o novo círculo no ponto \"\"\"\n",
        "        self.centro = centro\n",
        "        self.raio = raio\n",
        "\n",
        "    def ponto_no_circulo(self, ponto):\n",
        "        \"\"\" Retorna se um ponto está contido no círculo \"\"\"\n",
        "        if ((ponto.y - self.centro.y)**2 + (ponto.x - self.centro.x)**2)**(0.5) <= self.raio:\n",
        "            return True\n",
        "        return False\n",
        "\n",
        "    def __str__(self):\n",
        "        return \"(({0}, {1}), {2})\".format(self.centro.x, self.centro.y, self.raio)\n",
        "\n",
        "circulo = Circle(Ponto(150,100), 75)\n",
        "print(circulo)\n",
        "circulo.ponto_no_circulo(Ponto(150,100))"
      ],
      "execution_count": null,
      "outputs": [
        {
          "output_type": "stream",
          "text": [
            "((150, 100), 75)\n"
          ],
          "name": "stdout"
        },
        {
          "output_type": "execute_result",
          "data": {
            "text/plain": [
              "True"
            ]
          },
          "metadata": {
            "tags": []
          },
          "execution_count": 39
        }
      ]
    },
    {
      "cell_type": "code",
      "metadata": {
        "colab": {
          "base_uri": "https://localhost:8080/"
        },
        "id": "FxT7-se34P2h",
        "outputId": "23e7b671-f0af-4cb1-8c16-438d2c214e97"
      },
      "source": [
        "# Instala e importa o ColabTurtle\n",
        "!pip3 install ColabTurtle\n",
        "import ColabTurtle"
      ],
      "execution_count": 45,
      "outputs": [
        {
          "output_type": "stream",
          "text": [
            "Collecting ColabTurtle\n",
            "  Downloading https://files.pythonhosted.org/packages/49/01/6da7091c2c6c917cce99c000b89acb6aa27b66ef6eafc0c0ccf59b98694f/ColabTurtle-2.0.0.tar.gz\n",
            "Building wheels for collected packages: ColabTurtle\n",
            "  Building wheel for ColabTurtle (setup.py) ... \u001b[?25l\u001b[?25hdone\n",
            "  Created wheel for ColabTurtle: filename=ColabTurtle-2.0.0-cp36-none-any.whl size=4032 sha256=1181d9c6942c35b8d462978559d16d0f36475fff86ec53adc6723a3df4898cd9\n",
            "  Stored in directory: /root/.cache/pip/wheels/a8/29/ec/ad346f0042ae467cc74f4378916348faf975b07890651dcae7\n",
            "Successfully built ColabTurtle\n",
            "Installing collected packages: ColabTurtle\n",
            "Successfully installed ColabTurtle-2.0.0\n"
          ],
          "name": "stdout"
        }
      ]
    },
    {
      "cell_type": "code",
      "metadata": {
        "colab": {
          "base_uri": "https://localhost:8080/",
          "height": 521
        },
        "id": "NmFuX81s0E8c",
        "outputId": "1b000cc3-4312-4489-8827-f41292d83d86"
      },
      "source": [
        "# Exerício 7\n",
        "import ColabTurtle.Turtle\n",
        "\n",
        "class Rectangle:\n",
        "    \"\"\"Representa um retangulo. \n",
        "\n",
        "    atributos: \n",
        "    - largura, do tipo float\n",
        "    - altura, do tipo float \n",
        "    - canto, do tipo Ponto.\n",
        "    \"\"\"\n",
        "\n",
        "    def __init__(self, canto, largura=0, altura=0):\n",
        "        \"\"\" Inicializa o novo retângulo no ponto \"\"\"\n",
        "        self.canto = canto\n",
        "        self.largura = largura\n",
        "        self.altura = altura\n",
        "        \n",
        "    def desenhar_ret(self):\n",
        "        joana = ColabTurtle.Turtle\n",
        "        joana.initializeTurtle()\n",
        "        joana.penup()\n",
        "        joana.goto(self.canto.x, self.canto.y)\n",
        "        joana.pendown()\n",
        "        joana.left(180)\n",
        "        for i in range(4):\n",
        "            if i%2:\n",
        "                joana.forward(self.largura)\n",
        "            else:\n",
        "                joana.forward(self.altura)\n",
        "            joana.left(90)\n",
        "\n",
        "    def __str__(self):\n",
        "        return \"(({0}, {1}), {2}, {3})\".format(self.canto.x, self.canto.y, self.largura, self.altura)\n",
        "\n",
        "Rectangle(Ponto(3,4), 400, 200).desenhar_ret()"
      ],
      "execution_count": 54,
      "outputs": [
        {
          "output_type": "display_data",
          "data": {
            "text/html": [
              "\n",
              "      <svg width=\"800\" height=\"500\">\n",
              "        <rect width=\"100%\" height=\"100%\" fill=\"black\"/>\n",
              "        <line x1=\"3\" y1=\"4\" x2=\"3.0000000000000124\" y2=\"204.0\" stroke-linecap=\"round\" style=\"stroke:white;stroke-width:4\"/><line x1=\"3.0000000000000124\" y1=\"204.0\" x2=\"403.0\" y2=\"204.0\" stroke-linecap=\"round\" style=\"stroke:white;stroke-width:4\"/><line x1=\"403.0\" y1=\"204.0\" x2=\"402.99999999999994\" y2=\"4.0\" stroke-linecap=\"round\" style=\"stroke:white;stroke-width:4\"/><line x1=\"402.99999999999994\" y1=\"4.0\" x2=\"2.999999999999943\" y2=\"4.000000000000049\" stroke-linecap=\"round\" style=\"stroke:white;stroke-width:4\"/>\n",
              "        \n",
              "      <g visibility=visible transform=\"rotate(0,2.999999999999943,4.000000000000049) translate(2.999999999999943, 4.000000000000049)\">\n",
              "        <circle stroke=\"white\" stroke-width=\"3\" fill=\"transparent\" r=\"12\" cx=\"0\" cy=\"0\"/>\n",
              "        <polygon points=\"0,19 3,16 -3,16\" style=\"fill:white;stroke:white;stroke-width:2\"/>\n",
              "      </g>\n",
              "    \n",
              "      </svg>\n",
              "    "
            ],
            "text/plain": [
              "<IPython.core.display.HTML object>"
            ]
          },
          "metadata": {
            "tags": []
          }
        }
      ]
    },
    {
      "cell_type": "code",
      "metadata": {
        "colab": {
          "base_uri": "https://localhost:8080/",
          "height": 521
        },
        "id": "45Is2XR95sUU",
        "outputId": "886e2f39-1c8b-4752-a17c-fe3280d64946"
      },
      "source": [
        "# Exerício 8\n",
        "import math\n",
        "\n",
        "class Circle:\n",
        "    \"\"\"Representa um círculo. \n",
        "\n",
        "    atributos: \n",
        "    - centro, do tipo Ponto\n",
        "    - raio, do tipo float\n",
        "    \"\"\"\n",
        "\n",
        "    def __init__(self, centro, raio=0):\n",
        "        \"\"\" Inicializa o novo círculo no ponto \"\"\"\n",
        "        self.centro = centro\n",
        "        self.raio = raio\n",
        "\n",
        "    def ponto_no_circulo(self, ponto):\n",
        "        \"\"\" Retorna se um ponto está contido no círculo \"\"\"\n",
        "        if ((ponto.y - self.centro.y)**2 + (ponto.x - self.centro.x)**2)**(0.5) <= self.raio:\n",
        "            return True\n",
        "        return False\n",
        "\n",
        "    def desenhar_circulo(self):\n",
        "        joana = ColabTurtle.Turtle\n",
        "        joana.initializeTurtle()\n",
        "        joana.penup()\n",
        "        joana.goto(self.centro.x, self.centro.y)\n",
        "        joana.forward(self.raio)\n",
        "        joana.left(90)\n",
        "        joana.speed(10)\n",
        "        joana.pendown()\n",
        "\n",
        "        circumference = 2*math.pi*self.raio\n",
        "        n = 50\n",
        "        length = int(circumference/n)\n",
        "\n",
        "        alfa = 360/n\n",
        "        for i in range(n):\n",
        "            joana.forward(length)\n",
        "            joana.left(alfa)\n",
        "\n",
        "    def __str__(self):\n",
        "        return \"(({0}, {1}), {2})\".format(self.centro.x, self.centro.y, self.raio)\n",
        "\n",
        "Circle(Ponto(150,100), 75).desenhar_circulo()"
      ],
      "execution_count": 64,
      "outputs": [
        {
          "output_type": "display_data",
          "data": {
            "text/html": [
              "\n",
              "      <svg width=\"800\" height=\"500\">\n",
              "        <rect width=\"100%\" height=\"100%\" fill=\"black\"/>\n",
              "        <line x1=\"150.0\" y1=\"25.0\" x2=\"141.0\" y2=\"25.0\" stroke-linecap=\"round\" style=\"stroke:white;stroke-width:4\"/><line x1=\"141.0\" y1=\"25.0\" x2=\"132.0709676881697\" y2=\"26.127999102078736\" stroke-linecap=\"round\" style=\"stroke:white;stroke-width:4\"/><line x1=\"132.0709676881697\" y1=\"26.127999102078736\" x2=\"123.35371923801202\" y2=\"28.366208086562423\" stroke-linecap=\"round\" style=\"stroke:white;stroke-width:4\"/><line x1=\"123.35371923801202\" y1=\"28.366208086562423\" x2=\"114.98573086501776\" y2=\"31.67932906072452\" stroke-linecap=\"round\" style=\"stroke:white;stroke-width:4\"/><line x1=\"114.98573086501776\" y1=\"31.67932906072452\" x2=\"107.09897074462297\" y2=\"36.01511212763995\" stroke-linecap=\"round\" style=\"stroke:white;stroke-width:4\"/><line x1=\"107.09897074462297\" y1=\"36.01511212763995\" x2=\"99.81781779524844\" y2=\"41.3051793982722\" stroke-linecap=\"round\" style=\"stroke:white;stroke-width:4\"/><line x1=\"99.81781779524844\" y1=\"41.3051793982722\" x2=\"93.25710014845573\" y2=\"47.466103351630395\" stroke-linecap=\"round\" style=\"stroke:white;stroke-width:4\"/><line x1=\"93.25710014845573\" y1=\"47.466103351630395\" x2=\"87.52028424071752\" y2=\"54.40072253661249\" stroke-linecap=\"round\" style=\"stroke:white;stroke-width:4\"/><line x1=\"87.52028424071752\" y1=\"54.40072253661249\" x2=\"82.69784308590654\" y2=\"61.99967386613062\" stroke-linecap=\"round\" style=\"stroke:white;stroke-width:4\"/><line x1=\"82.69784308590654\" y1=\"61.99967386613062\" x2=\"78.86582946182088\" y2=\"70.14311733832479\" stroke-linecap=\"round\" style=\"stroke:white;stroke-width:4\"/><line x1=\"78.86582946182088\" y1=\"70.14311733832479\" x2=\"76.08467651244634\" y2=\"78.70262598498117\" stroke-linecap=\"round\" style=\"stroke:white;stroke-width:4\"/><line x1=\"76.08467651244634\" y1=\"78.70262598498117\" x2=\"74.3982446811748\" y2=\"87.54321124153937\" stroke-linecap=\"round\" style=\"stroke:white;stroke-width:4\"/><line x1=\"74.3982446811748\" y1=\"87.54321124153937\" x2=\"73.83313000541096\" y2=\"96.52545179739381\" stroke-linecap=\"round\" style=\"stroke:white;stroke-width:4\"/><line x1=\"73.83313000541096\" y1=\"96.52545179739381\" x2=\"74.39824468117477\" y2=\"105.50769235324826\" stroke-linecap=\"round\" style=\"stroke:white;stroke-width:4\"/><line x1=\"74.39824468117477\" y1=\"105.50769235324826\" x2=\"76.0846765124463\" y2=\"114.34827760980646\" stroke-linecap=\"round\" style=\"stroke:white;stroke-width:4\"/><line x1=\"76.0846765124463\" y1=\"114.34827760980646\" x2=\"78.86582946182081\" y2=\"122.90778625646284\" stroke-linecap=\"round\" style=\"stroke:white;stroke-width:4\"/><line x1=\"78.86582946182081\" y1=\"122.90778625646284\" x2=\"82.69784308590646\" y2=\"131.051229728657\" stroke-linecap=\"round\" style=\"stroke:white;stroke-width:4\"/><line x1=\"82.69784308590646\" y1=\"131.051229728657\" x2=\"87.52028424071742\" y2=\"138.65018105817515\" stroke-linecap=\"round\" style=\"stroke:white;stroke-width:4\"/><line x1=\"87.52028424071742\" y1=\"138.65018105817515\" x2=\"93.25710014845562\" y2=\"145.58480024315725\" stroke-linecap=\"round\" style=\"stroke:white;stroke-width:4\"/><line x1=\"93.25710014845562\" y1=\"145.58480024315725\" x2=\"99.81781779524832\" y2=\"151.74572419651545\" stroke-linecap=\"round\" style=\"stroke:white;stroke-width:4\"/><line x1=\"99.81781779524832\" y1=\"151.74572419651545\" x2=\"107.09897074462285\" y2=\"157.0357914671477\" stroke-linecap=\"round\" style=\"stroke:white;stroke-width:4\"/><line x1=\"107.09897074462285\" y1=\"157.0357914671477\" x2=\"114.98573086501762\" y2=\"161.37157453406314\" stroke-linecap=\"round\" style=\"stroke:white;stroke-width:4\"/><line x1=\"114.98573086501762\" y1=\"161.37157453406314\" x2=\"123.35371923801188\" y2=\"164.68469550822525\" stroke-linecap=\"round\" style=\"stroke:white;stroke-width:4\"/><line x1=\"123.35371923801188\" y1=\"164.68469550822525\" x2=\"132.07096768816956\" y2=\"166.92290449270894\" stroke-linecap=\"round\" style=\"stroke:white;stroke-width:4\"/><line x1=\"132.07096768816956\" y1=\"166.92290449270894\" x2=\"140.99999999999986\" y2=\"168.05090359478768\" stroke-linecap=\"round\" style=\"stroke:white;stroke-width:4\"/><line x1=\"140.99999999999986\" y1=\"168.05090359478768\" x2=\"149.99999999999986\" y2=\"168.05090359478768\" stroke-linecap=\"round\" style=\"stroke:white;stroke-width:4\"/><line x1=\"149.99999999999986\" y1=\"168.05090359478768\" x2=\"158.92903231183016\" y2=\"166.92290449270897\" stroke-linecap=\"round\" style=\"stroke:white;stroke-width:4\"/><line x1=\"158.92903231183016\" y1=\"166.92290449270897\" x2=\"167.64628076198784\" y2=\"164.68469550822527\" stroke-linecap=\"round\" style=\"stroke:white;stroke-width:4\"/><line x1=\"167.64628076198784\" y1=\"164.68469550822527\" x2=\"176.0142691349821\" y2=\"161.3715745340632\" stroke-linecap=\"round\" style=\"stroke:white;stroke-width:4\"/><line x1=\"176.0142691349821\" y1=\"161.3715745340632\" x2=\"183.90102925537687\" y2=\"157.0357914671478\" stroke-linecap=\"round\" style=\"stroke:white;stroke-width:4\"/><line x1=\"183.90102925537687\" y1=\"157.0357914671478\" x2=\"191.1821822047514\" y2=\"151.74572419651554\" stroke-linecap=\"round\" style=\"stroke:white;stroke-width:4\"/><line x1=\"191.1821822047514\" y1=\"151.74572419651554\" x2=\"197.7428998515441\" y2=\"145.58480024315736\" stroke-linecap=\"round\" style=\"stroke:white;stroke-width:4\"/><line x1=\"197.7428998515441\" y1=\"145.58480024315736\" x2=\"203.47971575928233\" y2=\"138.65018105817526\" stroke-linecap=\"round\" style=\"stroke:white;stroke-width:4\"/><line x1=\"203.47971575928233\" y1=\"138.65018105817526\" x2=\"208.30215691409333\" y2=\"131.05122972865715\" stroke-linecap=\"round\" style=\"stroke:white;stroke-width:4\"/><line x1=\"208.30215691409333\" y1=\"131.05122972865715\" x2=\"212.134170538179\" y2=\"122.90778625646298\" stroke-linecap=\"round\" style=\"stroke:white;stroke-width:4\"/><line x1=\"212.134170538179\" y1=\"122.90778625646298\" x2=\"214.91532348755356\" y2=\"114.34827760980662\" stroke-linecap=\"round\" style=\"stroke:white;stroke-width:4\"/><line x1=\"214.91532348755356\" y1=\"114.34827760980662\" x2=\"216.60175531882513\" y2=\"105.50769235324842\" stroke-linecap=\"round\" style=\"stroke:white;stroke-width:4\"/><line x1=\"216.60175531882513\" y1=\"105.50769235324842\" x2=\"217.16686999458898\" y2=\"96.52545179739397\" stroke-linecap=\"round\" style=\"stroke:white;stroke-width:4\"/><line x1=\"217.16686999458898\" y1=\"96.52545179739397\" x2=\"216.60175531882518\" y2=\"87.54321124153952\" stroke-linecap=\"round\" style=\"stroke:white;stroke-width:4\"/><line x1=\"216.60175531882518\" y1=\"87.54321124153952\" x2=\"214.9153234875537\" y2=\"78.70262598498132\" stroke-linecap=\"round\" style=\"stroke:white;stroke-width:4\"/><line x1=\"214.9153234875537\" y1=\"78.70262598498132\" x2=\"212.1341705381792\" y2=\"70.14311733832493\" stroke-linecap=\"round\" style=\"stroke:white;stroke-width:4\"/><line x1=\"212.1341705381792\" y1=\"70.14311733832493\" x2=\"208.3021569140936\" y2=\"61.999673866130735\" stroke-linecap=\"round\" style=\"stroke:white;stroke-width:4\"/><line x1=\"208.3021569140936\" y1=\"61.999673866130735\" x2=\"203.47971575928264\" y2=\"54.40072253661258\" stroke-linecap=\"round\" style=\"stroke:white;stroke-width:4\"/><line x1=\"203.47971575928264\" y1=\"54.40072253661258\" x2=\"197.74289985154448\" y2=\"47.46610335163045\" stroke-linecap=\"round\" style=\"stroke:white;stroke-width:4\"/><line x1=\"197.74289985154448\" y1=\"47.46610335163045\" x2=\"191.1821822047518\" y2=\"41.30517939827222\" stroke-linecap=\"round\" style=\"stroke:white;stroke-width:4\"/><line x1=\"191.1821822047518\" y1=\"41.30517939827222\" x2=\"183.9010292553773\" y2=\"36.01511212763993\" stroke-linecap=\"round\" style=\"stroke:white;stroke-width:4\"/><line x1=\"183.9010292553773\" y1=\"36.01511212763993\" x2=\"176.01426913498256\" y2=\"31.679329060724456\" stroke-linecap=\"round\" style=\"stroke:white;stroke-width:4\"/><line x1=\"176.01426913498256\" y1=\"31.679329060724456\" x2=\"167.64628076198832\" y2=\"28.36620808656231\" stroke-linecap=\"round\" style=\"stroke:white;stroke-width:4\"/><line x1=\"167.64628076198832\" y1=\"28.36620808656231\" x2=\"158.92903231183067\" y2=\"26.12799910207857\" stroke-linecap=\"round\" style=\"stroke:white;stroke-width:4\"/><line x1=\"158.92903231183067\" y1=\"26.12799910207857\" x2=\"150.00000000000037\" y2=\"24.99999999999978\" stroke-linecap=\"round\" style=\"stroke:white;stroke-width:4\"/>\n",
              "        \n",
              "      <g visibility=visible transform=\"rotate(90.00000000000034,150.00000000000037,24.99999999999978) translate(150.00000000000037, 24.99999999999978)\">\n",
              "        <circle stroke=\"white\" stroke-width=\"3\" fill=\"transparent\" r=\"12\" cx=\"0\" cy=\"0\"/>\n",
              "        <polygon points=\"0,19 3,16 -3,16\" style=\"fill:white;stroke:white;stroke-width:2\"/>\n",
              "      </g>\n",
              "    \n",
              "      </svg>\n",
              "    "
            ],
            "text/plain": [
              "<IPython.core.display.HTML object>"
            ]
          },
          "metadata": {
            "tags": []
          }
        }
      ]
    }
  ]
}