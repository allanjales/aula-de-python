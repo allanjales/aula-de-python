{
  "nbformat": 4,
  "nbformat_minor": 0,
  "metadata": {
    "kernelspec": {
      "display_name": "Python 3",
      "language": "python",
      "name": "python3"
    },
    "language_info": {
      "codemirror_mode": {
        "name": "ipython",
        "version": 3
      },
      "file_extension": ".py",
      "mimetype": "text/x-python",
      "name": "python",
      "nbconvert_exporter": "python",
      "pygments_lexer": "ipython3",
      "version": "3.7.0"
    },
    "colab": {
      "name": "aula1_exercicios.ipynb",
      "provenance": [],
      "include_colab_link": true
    }
  },
  "cells": [
    {
      "cell_type": "markdown",
      "metadata": {
        "id": "view-in-github",
        "colab_type": "text"
      },
      "source": [
        "<a href=\"https://colab.research.google.com/github/allanjales/aulas-de-python/blob/master/exerc%C3%ADcios/aula1_exercicios.ipynb\" target=\"_parent\"><img src=\"https://colab.research.google.com/assets/colab-badge.svg\" alt=\"Open In Colab\"/></a>"
      ]
    },
    {
      "cell_type": "markdown",
      "metadata": {
        "id": "Q-Hqb3tyS2Nb",
        "colab_type": "text"
      },
      "source": [
        "# Exercícios (Twiki)\n",
        "\n",
        "### Exercício 1:\n",
        "Se você fizer uma corrida de 10 quilômetros em 43 minutos e 30 segundos, qual será seu tempo médio por milha? Qual é a sua velocidade média em milhas por hora? (Dica: há 1,61 quilômetros em uma milha)."
      ]
    },
    {
      "cell_type": "code",
      "metadata": {
        "id": "CvXocUnTUaFm",
        "colab_type": "code",
        "colab": {
          "base_uri": "https://localhost:8080/",
          "height": 51
        },
        "outputId": "bc29aabf-b478-4468-d6f1-b6bca7173e93"
      },
      "source": [
        "#Define valores dados\n",
        "dKm \t= 10\n",
        "tS \t= 43*60+30\n",
        "\n",
        "#Converte para milha e hora\n",
        "dMi \t= dKm/1.61\n",
        "tH\t= tS/60/60\n",
        "\n",
        "#Calcula paradas\n",
        "velMiH\t= dMi/tH\n",
        "tmedMi\t= 1/velMiH\n",
        "\n",
        "#Exibe as paradas\n",
        "print('Tempo médio por milha =', round(tmedMi*60,2),'min/Mi')\n",
        "print('Velocidade média =', round(velMiH,2), 'Mi/h')"
      ],
      "execution_count": 1,
      "outputs": [
        {
          "output_type": "stream",
          "text": [
            "Tempo médio por milha = 7.0 min/Mi\n",
            "Velocidade média = 8.57 Mi/h\n"
          ],
          "name": "stdout"
        }
      ]
    },
    {
      "cell_type": "markdown",
      "metadata": {
        "id": "7XEmAuy6TDPd",
        "colab_type": "text"
      },
      "source": [
        "### Exercício 2:\n",
        "Desde sua varanda você escuta o som do primeiro fogo artificial do reveillon 3 segundos depois de ver a luz, qual a distância? (o som tem velocidade 343 m/s e a luz %$3\\times 10^8$% m/s)."
      ]
    },
    {
      "cell_type": "code",
      "metadata": {
        "id": "jBDNmw6_TSQB",
        "colab_type": "code",
        "colab": {
          "base_uri": "https://localhost:8080/",
          "height": 34
        },
        "outputId": "91cecd66-d0a1-416b-c354-49b820ba4a46"
      },
      "source": [
        "import math\n",
        "\n",
        "#Definição de variáveis\n",
        "velSom\t= 343\n",
        "velLuz\t= 3*pow(10, 8)\n",
        "tempo\t= 3\n",
        "\n",
        "#Calculos\n",
        "distancia = velSom*tempo\n",
        "\n",
        "#Exibição dos resultados\n",
        "print('A distância do fogo artificial', distancia, 'm')"
      ],
      "execution_count": 2,
      "outputs": [
        {
          "output_type": "stream",
          "text": [
            "A distância do fogo artificial 1029 m\n"
          ],
          "name": "stdout"
        }
      ]
    },
    {
      "cell_type": "markdown",
      "metadata": {
        "id": "uPTQBRccTV2v",
        "colab_type": "text"
      },
      "source": [
        "### Exercício 3:\n",
        "Ache os zeros da função\n",
        " y = 3 *x^2 - 4 *x -10 "
      ]
    },
    {
      "cell_type": "code",
      "metadata": {
        "id": "1XxK8dmdUjUi",
        "colab_type": "code",
        "colab": {
          "base_uri": "https://localhost:8080/",
          "height": 34
        },
        "outputId": "82aa786f-2865-4847-ad33-59a633f96c2b"
      },
      "source": [
        "import math\n",
        "\n",
        "#Definição de variáveis\n",
        "a = 3\n",
        "b = -4\n",
        "c = -10\n",
        "\n",
        "#Calculos\n",
        "delta \t= math.pow(b, 2) - 4*a*c\n",
        "x1\t= (-b + math.sqrt(delta))/(2*a)\n",
        "x2\t= (-b - math.sqrt(delta))/(2*a)\n",
        "\n",
        "#Exibição dos resultados\n",
        "print('As raízes da equação y = 3x² - 4x -10 são ', round(x1,2), 'e', round(x2,2))"
      ],
      "execution_count": 6,
      "outputs": [
        {
          "output_type": "stream",
          "text": [
            "As raízes da equação y = 3x² - 4x -10 são  2.61 e -1.28\n"
          ],
          "name": "stdout"
        }
      ]
    },
    {
      "cell_type": "markdown",
      "metadata": {
        "id": "zWm1g2rkT40B",
        "colab_type": "text"
      },
      "source": [
        "### Exercício 4:\n",
        "Se, ao meio-dia, a sombra de um poste de 5 m de altura tem apenas 50 cm de comprimento no chão, qual o ângulo zenital do sol?\n",
        "![Sol meio dia](https://encrypted-tbn0.gstatic.com/images?q=tbn:ANd9GcTZhp9klylcNLuyh4p1B8ITc8k8cKvkVLOvDTZKX6Hw1lPjkkNo)"
      ]
    },
    {
      "cell_type": "code",
      "metadata": {
        "id": "rlJHuwsjUmxO",
        "colab_type": "code",
        "colab": {
          "base_uri": "https://localhost:8080/",
          "height": 34
        },
        "outputId": "cf0a5e17-148f-4492-8e1f-338ac1fc74c0"
      },
      "source": [
        "import math\n",
        "\n",
        "#Definição de variáveis\n",
        "altura = 5\n",
        "sombra = 0.5\n",
        "\n",
        "#Calculos\n",
        "anguloRad = math.atan(sombra/altura)\n",
        "anguloGrau = anguloRad*180/math.pi\n",
        "\n",
        "#Exibição dos resultados\n",
        "print('O ângulo de zênite do Sol é de ', round(anguloGrau, 2), '°', sep='')"
      ],
      "execution_count": 5,
      "outputs": [
        {
          "output_type": "stream",
          "text": [
            "O ângulo de zênite do Sol é de 5.71°\n"
          ],
          "name": "stdout"
        }
      ]
    },
    {
      "cell_type": "markdown",
      "metadata": {
        "id": "2lE9nwtTUFMG",
        "colab_type": "text"
      },
      "source": [
        "### Exercício 5:\n",
        "Calcule o seu %$IMC = \\dfrac{M}{A^2}$% (com a massa em Kg e a altura em metros). Um valor saudável estara --em geral-- entre 20-25. Um bebê de 6 meses \"gorducho\" tem 70 cm de \"comprimento\" e 11 kg de massa, qual o IMC dele?"
      ]
    },
    {
      "cell_type": "code",
      "metadata": {
        "id": "YB0CjpTTUMAc",
        "colab_type": "code",
        "colab": {
          "base_uri": "https://localhost:8080/",
          "height": 51
        },
        "outputId": "d163cc7d-9fc1-4918-de8b-8fd12d5aaccd"
      },
      "source": [
        "import math\n",
        "\n",
        "#Definição de variáveis\n",
        "massa \t= 11\n",
        "altura \t= 0.70\n",
        "\n",
        "#Calculos\n",
        "imc = massa/pow(altura,2)\n",
        "\n",
        "#Exibição dos resultados\n",
        "print('O IMC do bebê é', round(imc, 2))\n",
        "\n",
        "#Verificação\n",
        "if imc >= 20 and imc <= 25:\n",
        "\tprint('Portanto o bebê é saudável')\n",
        "else:\n",
        "\tprint('O bebê não está saudável :(')"
      ],
      "execution_count": 4,
      "outputs": [
        {
          "output_type": "stream",
          "text": [
            "O IMC do bebê é 22.45\n",
            "Portanto o bebê é saudável\n"
          ],
          "name": "stdout"
        }
      ]
    },
    {
      "cell_type": "markdown",
      "metadata": {
        "id": "Wg2dyK00UNFl",
        "colab_type": "text"
      },
      "source": [
        "### Exercício 6:\n",
        "Calcule a velocidade final de um objeto em queda livre a partir de 3 metros de altura (sem resistencia do ar). Calcule o tempo que esse objeto demora para cair."
      ]
    },
    {
      "cell_type": "code",
      "metadata": {
        "id": "Z-OPI5wDUrYG",
        "colab_type": "code",
        "colab": {
          "base_uri": "https://localhost:8080/",
          "height": 34
        },
        "outputId": "de76050c-de34-4d2c-cdfe-efda837b395b"
      },
      "source": [
        "import math\n",
        "\n",
        "#Define variáveis\n",
        "altura\t= 3\n",
        "g\t= 9.81\n",
        "\n",
        "#Calculos\n",
        "t = math.sqrt(3*2/g)\n",
        "\n",
        "#Exibição\n",
        "print('O tempo de queda é', round(t,2), 's')"
      ],
      "execution_count": 3,
      "outputs": [
        {
          "output_type": "stream",
          "text": [
            "O tempo de queda é 0.78 s\n"
          ],
          "name": "stdout"
        }
      ]
    },
    {
      "cell_type": "markdown",
      "metadata": {
        "id": "AorQXEEymp38",
        "colab_type": "text"
      },
      "source": [
        "# Exercícios (notebook)\n",
        "\n",
        "### Exercício 1:\n",
        "Escreva na tela do modo prompt: \"mundo, mundo, vasto mundo\""
      ]
    },
    {
      "cell_type": "code",
      "metadata": {
        "scrolled": true,
        "id": "iNQorxmdmp3-",
        "colab_type": "code",
        "colab": {
          "base_uri": "https://localhost:8080/",
          "height": 34
        },
        "outputId": "1d9b91fc-4ab4-4fc1-d1d1-f61bbd43f1c1"
      },
      "source": [
        "print('mundo, mundo, vasto mundo')"
      ],
      "execution_count": 7,
      "outputs": [
        {
          "output_type": "stream",
          "text": [
            "mundo, mundo, vasto mundo\n"
          ],
          "name": "stdout"
        }
      ]
    },
    {
      "cell_type": "markdown",
      "metadata": {
        "id": "dVoNJP3rmp4D",
        "colab_type": "text"
      },
      "source": [
        "### Exercício 2:\n",
        "Imprima na tela a documentação da função *print*"
      ]
    },
    {
      "cell_type": "code",
      "metadata": {
        "scrolled": true,
        "id": "e-tjr2J1mp4E",
        "colab_type": "code",
        "colab": {
          "base_uri": "https://localhost:8080/",
          "height": 221
        },
        "outputId": "e2b3bd76-7c5d-4750-a0aa-7f45d05a0f4e"
      },
      "source": [
        "help('print')"
      ],
      "execution_count": 8,
      "outputs": [
        {
          "output_type": "stream",
          "text": [
            "Help on built-in function print in module builtins:\n",
            "\n",
            "print(...)\n",
            "    print(value, ..., sep=' ', end='\\n', file=sys.stdout, flush=False)\n",
            "    \n",
            "    Prints the values to a stream, or to sys.stdout by default.\n",
            "    Optional keyword arguments:\n",
            "    file:  a file-like object (stream); defaults to the current sys.stdout.\n",
            "    sep:   string inserted between values, default a space.\n",
            "    end:   string appended after the last value, default a newline.\n",
            "    flush: whether to forcibly flush the stream.\n",
            "\n"
          ],
          "name": "stdout"
        }
      ]
    },
    {
      "cell_type": "markdown",
      "metadata": {
        "id": "sE4F0ZW6mp4H",
        "colab_type": "text"
      },
      "source": [
        "### Exercício 3:\n",
        "Inicie o interpretador Python e use-o como uma calculadora. A sintaxe do Python para operações matemáticas é quase igual à notação matemática padrão: \n",
        "* adição: + \n",
        "* subtração: - \n",
        "* divisão: /\n",
        "* multiplicação: *\n",
        "   \n",
        "   \n",
        "***Se você fizer uma corrida de 10 quilômetros em 43 minutos e 30 segundos, qual será seu tempo médio por milha? Qual é a sua velocidade média em milhas por hora? (Dica: há 1,61 quilômetros em uma milha).***"
      ]
    },
    {
      "cell_type": "code",
      "metadata": {
        "id": "7HgDGqX0SxNZ",
        "colab_type": "code",
        "colab": {
          "base_uri": "https://localhost:8080/",
          "height": 85
        },
        "outputId": "aabcf9b1-5da4-4c38-a94b-14a4ad8e2674"
      },
      "source": [
        "print(\"13+4 =\", 13+4)\n",
        "print(\"13-4 =\", 13-4)\n",
        "print(\"13/4 =\", 13/4)\n",
        "print(\"13*4 =\", 13*4)"
      ],
      "execution_count": 11,
      "outputs": [
        {
          "output_type": "stream",
          "text": [
            "13+4 = 17\n",
            "13-4 = 9\n",
            "13/4 = 3.25\n",
            "13*4 = 52\n"
          ],
          "name": "stdout"
        }
      ]
    }
  ]
}
