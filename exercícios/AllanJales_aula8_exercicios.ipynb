{
  "nbformat": 4,
  "nbformat_minor": 0,
  "metadata": {
    "kernelspec": {
      "display_name": "Python 3",
      "language": "python",
      "name": "python3"
    },
    "language_info": {
      "codemirror_mode": {
        "name": "ipython",
        "version": 3
      },
      "file_extension": ".py",
      "mimetype": "text/x-python",
      "name": "python",
      "nbconvert_exporter": "python",
      "pygments_lexer": "ipython3",
      "version": "3.6.4"
    },
    "colab": {
      "name": "AllanJales_aula8_exercicios.ipynb",
      "provenance": [],
      "collapsed_sections": [],
      "include_colab_link": true
    }
  },
  "cells": [
    {
      "cell_type": "markdown",
      "metadata": {
        "id": "view-in-github",
        "colab_type": "text"
      },
      "source": [
        "<a href=\"https://colab.research.google.com/github/allanjales/aulas-de-python/blob/master/exerc%C3%ADcios/AllanJales_aula8_exercicios.ipynb\" target=\"_parent\"><img src=\"https://colab.research.google.com/assets/colab-badge.svg\" alt=\"Open In Colab\"/></a>"
      ]
    },
    {
      "cell_type": "markdown",
      "metadata": {
        "id": "BaoP_gw8NSNW"
      },
      "source": [
        "1.   Exercício: percorra toda a 'string' banana, utilizando as interações\n",
        "apresentadas nas aulas anteriores, e imprima na tela uma letra por linha como se fosse em uma escada. \n"
      ]
    },
    {
      "cell_type": "code",
      "metadata": {
        "id": "VIkFUyw7OjDV",
        "outputId": "3546b85b-e96c-4e8f-85bb-ec3eb37ba1ca",
        "colab": {
          "base_uri": "https://localhost:8080/",
          "height": 119
        }
      },
      "source": [
        "fruta = 'banana'\n",
        "\n",
        "for i in range(len(fruta)):\n",
        "    print(\" \"*i, fruta[i])"
      ],
      "execution_count": null,
      "outputs": [
        {
          "output_type": "stream",
          "text": [
            " b\n",
            "  a\n",
            "   n\n",
            "    a\n",
            "     n\n",
            "      a\n"
          ],
          "name": "stdout"
        }
      ]
    },
    {
      "cell_type": "markdown",
      "metadata": {
        "id": "NCiSChVSSaBG"
      },
      "source": [
        "2. Exercício: escreva uma função que receba uma `string` como argumento e exiba as letras de trás para a frente, uma por linha."
      ]
    },
    {
      "cell_type": "code",
      "metadata": {
        "id": "hSIre3HWRLBY",
        "outputId": "aa042963-e7c8-4cd3-d6b9-9c5d05004138",
        "colab": {
          "base_uri": "https://localhost:8080/",
          "height": 119
        }
      },
      "source": [
        "def invert_text(text):\n",
        "    for i in range(len(text), 0, -1):\n",
        "        print(text[i-1])\n",
        "\n",
        "invert_text(\"banana\")"
      ],
      "execution_count": null,
      "outputs": [
        {
          "output_type": "stream",
          "text": [
            "a\n",
            "n\n",
            "a\n",
            "n\n",
            "a\n",
            "b\n"
          ],
          "name": "stdout"
        }
      ]
    },
    {
      "cell_type": "markdown",
      "metadata": {
        "id": "QuAg2OjIJ36Y"
      },
      "source": [
        "## Exercício\n",
        "\n",
        "1. Resolução numérica de equações diferenciais. Imagine que tem um/a maratonista treinando, que num trecho de $5 km$ tem velocidade quase constante de $12 km/h$. Produza uma lista distância percorrida em intervalos de 1 minuto. \n",
        "\n",
        "2. O/A mesmo/a atleta no seguinte trecho acelera  por $200$ metros até chegar em $15 km/h$  por $2 km$. Queremos obter uma tabela ou gráfico da distância percorrida en função do tempo e o tempo total para chegar em $7 km$, faça isto utilizando listas. \n",
        "\n",
        "3. Considere um péndulo simples num plano. O comprimento da linha é $1$ metro, a massa é $0,2 kg$ e a aceleração de gravidade $9,8 m/s^2$. Faça um gráfico ou crie uma tabela para a posição em coordenadas cartesianas em função do tempo, utilizando listas.\n",
        "\n",
        "4. (opcional) Pesquise sobre o pacote `numpy` e os objetos desse pacote chamados `array`, tente utilizálos ao invés de listas para resolver os exercícios.\n",
        "\n",
        "Dica: podem usar o pacote `matplotlib.pyplot` para fazer um gráfico:"
      ]
    },
    {
      "cell_type": "code",
      "metadata": {
        "id": "XEkSrUBqJ36Z",
        "outputId": "07e94ead-8911-4bc5-c4c9-8f8f1dfee961",
        "colab": {
          "base_uri": "https://localhost:8080/",
          "height": 296
        }
      },
      "source": [
        "import matplotlib.pyplot as plt\n",
        "\n",
        "t=[0,1,2,3,4,5,6,7,8,9,10]\n",
        "x=[0,4.2,8,10,23,30,35,41,44,50,55]\n",
        "\n",
        "plt.plot(t,x)\n",
        "plt.xlabel(\"tempo s\")\n",
        "plt.ylabel(\"distância m\")"
      ],
      "execution_count": null,
      "outputs": [
        {
          "output_type": "execute_result",
          "data": {
            "text/plain": [
              "Text(0, 0.5, 'distância m')"
            ]
          },
          "metadata": {
            "tags": []
          },
          "execution_count": 1
        },
        {
          "output_type": "display_data",
          "data": {
            "image/png": "[encoded data removed]",
            "text/plain": [
              "<Figure size 432x288 with 1 Axes>"
            ]
          },
          "metadata": {
            "tags": [],
            "needs_background": "light"
          }
        }
      ]
    },
    {
      "cell_type": "code",
      "metadata": {
        "id": "1RGGVaPVYHW0",
        "outputId": "5097394e-3ac0-4ca0-b41b-8fff8b31ee44",
        "colab": {
          "base_uri": "https://localhost:8080/",
          "height": 279
        }
      },
      "source": [
        "#Exercício 1\n",
        "import matplotlib.pyplot as plt\n",
        "\n",
        "def get_positions(start, velocity, distance, delta_t):\n",
        "    result = {\n",
        "        'positions': [start],\n",
        "        'times': [0]\n",
        "    }\n",
        "    while result['positions'][-1] < distance:\n",
        "        result['positions'].append(result['positions'][-1] + velocity*delta_t)\n",
        "        result['times'].append(result['times'][-1] + delta_t)\n",
        "    return result\n",
        "\n",
        "def plot_graph(x, y, label_x, label_y):\n",
        "    plt.plot(x,y)\n",
        "    plt.xlabel(label_x)\n",
        "    plt.ylabel(label_y)\n",
        "\n",
        "plot_values = get_positions(0, 12, 5, 1/60)\n",
        "\n",
        "plot_graph(plot_values['times'], plot_values['positions'], 'tempo [minutos]', 'distância [km]')\n"
      ],
      "execution_count": null,
      "outputs": [
        {
          "output_type": "display_data",
          "data": {
            "image/png": "[encoded data removed]",
            "text/plain": [
              "<Figure size 432x288 with 1 Axes>"
            ]
          },
          "metadata": {
            "tags": [],
            "needs_background": "light"
          }
        }
      ]
    },
    {
      "cell_type": "code",
      "metadata": {
        "id": "ytRHoB0nA-Zn",
        "outputId": "f097d09e-8f85-45f9-fcee-8b458d6c5342",
        "colab": {
          "base_uri": "https://localhost:8080/",
          "height": 281
        }
      },
      "source": [
        "#Exercício 2\n",
        "import matplotlib.pyplot as plt\n",
        "import math\n",
        "\n",
        "runner = {\n",
        "    'position': [0],\n",
        "    'time': [0]\n",
        "}\n",
        "\n",
        "#First run configs\n",
        "initial_position1 = 0\n",
        "end_position1 = 5\n",
        "velocity1 = 12\n",
        "\n",
        "#First run code\n",
        "def runner_part1(time):\n",
        "    position = initial_position1 + velocity1*time\n",
        "    \n",
        "    if position <= end_position1:\n",
        "        return position\n",
        "    else:\n",
        "        return False\n",
        "\n",
        "#Second run configs\n",
        "end_position2 = 5.2\n",
        "end_velocity2 = 15\n",
        "aceleration2 = (end_velocity2 - velocity1)/(end_position2 - end_position1)\n",
        "\n",
        "#Second run code\n",
        "def runner_part2(time):\n",
        "    position = end_position1 + velocity1*time + aceleration2*time**2/2\n",
        "    \n",
        "    if position <= end_position2:\n",
        "        return position\n",
        "    else:\n",
        "        return False\n",
        "\n",
        "#Third run configs\n",
        "initial_position3 = 5.2\n",
        "\n",
        "#Third run code\n",
        "def runner_part3(time):\n",
        "    position = initial_position3 + end_velocity2*time\n",
        "    return position\n",
        "\n",
        "\n",
        "#Configs about graph\n",
        "steps = 1/60\n",
        "initial_position3 = 7\n",
        "\n",
        "#Do calculus\n",
        "while runner['position'][-1] <= initial_position3:\n",
        "    #Get time\n",
        "    runner['time'].append(runner['time'][-1] + steps)\n",
        "\n",
        "    #Get position\n",
        "    if runner_part1(runner['time'][-1]):\n",
        "        runner['position'].append(runner_part1(runner['time'][-1]))\n",
        "    elif runner_part2(runner['time'][-1]):\n",
        "        runner['position'].append(runner_part2(runner['time'][-1]))\n",
        "    else:\n",
        "        runner['position'].append(runner_part3(runner['time'][-1]))\n",
        "\n",
        "#Plot graph\n",
        "def plot_graph(x, y, label_x, label_y):\n",
        "    plt.plot(x,y)\n",
        "    plt.xlabel(label_x)\n",
        "    plt.ylabel(label_y)\n",
        "\n",
        "plot_graph(runner['time'], runner['position'], 'tempo [minutos]', 'distância [km]')"
      ],
      "execution_count": 35,
      "outputs": [
        {
          "output_type": "display_data",
          "data": {
            "image/png": "[encoded data removed]",
            "text/plain": [
              "<Figure size 432x288 with 1 Axes>"
            ]
          },
          "metadata": {
            "tags": [],
            "needs_background": "light"
          }
        }
      ]
    },
    {
      "cell_type": "code",
      "metadata": {
        "id": "tHa-mccaz4DD",
        "outputId": "f22ced50-7ae2-4044-fd1c-c18369848336",
        "colab": {
          "base_uri": "https://localhost:8080/",
          "height": 279
        }
      },
      "source": [
        "#Exercício 3\n",
        "import matplotlib.pyplot as plt\n",
        "import math\n",
        "\n",
        "#Configs about pendulum\n",
        "length = 1\n",
        "gravity = 9.8\n",
        "amplitude = 2\n",
        "fase_inicial = 0\n",
        "\n",
        "#Pendulum initial positions\n",
        "pendulum = {\n",
        "    'position_x': [],\n",
        "    'velocity_x': [],\n",
        "    'time': []\n",
        "}\n",
        "\n",
        "#Configs about graph\n",
        "n_points = 50\n",
        "steps = 0.5\n",
        "\n",
        "#Do calculus\n",
        "for i in range(n_points):\n",
        "    omega = 1/(2*math.pi)*math.sqrt(gravity/length)\n",
        "\n",
        "    pendulum['time']      .append(i*steps)\n",
        "    pendulum['position_x'].append(       amplitude*math.cos(omega*pendulum['time'][-1] + fase_inicial))\n",
        "    pendulum['velocity_x'].append(-omega*amplitude*math.sin(omega*pendulum['time'][-1] + fase_inicial))\n",
        "\n",
        "#Plot graph\n",
        "def plot_graph(x, y, label_x, label_y):\n",
        "    plt.plot(x,y)\n",
        "    plt.xlabel(label_x)\n",
        "    plt.ylabel(label_y)\n",
        "\n",
        "plot_graph(pendulum['time'], pendulum['position_x'], 'tempo', 'posição/velocidade')\n",
        "plot_graph(pendulum['time'], pendulum['velocity_x'], 'tempo', 'posição/velocidade')"
      ],
      "execution_count": 19,
      "outputs": [
        {
          "output_type": "display_data",
          "data": {
            "image/png": "[encoded data removed]",
            "text/plain": [
              "<Figure size 432x288 with 1 Axes>"
            ]
          },
          "metadata": {
            "tags": [],
            "needs_background": "light"
          }
        }
      ]
    }
  ]
}