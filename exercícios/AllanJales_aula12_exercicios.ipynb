{
  "nbformat": 4,
  "nbformat_minor": 0,
  "metadata": {
    "kernelspec": {
      "display_name": "Python 3",
      "language": "python",
      "name": "python3"
    },
    "language_info": {
      "codemirror_mode": {
        "name": "ipython",
        "version": 3
      },
      "file_extension": ".py",
      "mimetype": "text/x-python",
      "name": "python",
      "nbconvert_exporter": "python",
      "pygments_lexer": "ipython3",
      "version": "3.6.4"
    },
    "colab": {
      "name": "AllanJales_aula12_exercicios.ipynb",
      "provenance": [],
      "collapsed_sections": [],
      "include_colab_link": true
    }
  },
  "cells": [
    {
      "cell_type": "markdown",
      "metadata": {
        "id": "view-in-github",
        "colab_type": "text"
      },
      "source": [
        "<a href=\"https://colab.research.google.com/github/allanjales/aulas-de-python/blob/master/exerc%C3%ADcios/AllanJales_aula12_exercicios.ipynb\" target=\"_parent\"><img src=\"https://colab.research.google.com/assets/colab-badge.svg\" alt=\"Open In Colab\"/></a>"
      ]
    },
    {
      "cell_type": "markdown",
      "metadata": {
        "id": "AoWdVBEa7ECe"
      },
      "source": [
        "https://colab.research.google.com/github/malbouis/Python_intro/blob/master/aulas/aula12_classes.ipynb#scrollTo=LL_vBZZozRlG"
      ]
    },
    {
      "cell_type": "code",
      "metadata": {
        "id": "U7oPQPK9mcbp"
      },
      "source": [
        "class Ponto:\n",
        "    \"\"\" Cria um novo Ponto, com coordenadas x, y \"\"\"\n",
        "\n",
        "    def __init__(self, x=0, y=0):\n",
        "        \"\"\" Inicializa em x, y o novo ponto criado pela classe \"\"\"\n",
        "        self.x = x\n",
        "        self.y = y\n",
        "\n",
        "    def distancia_da_origem(self):\n",
        "        \"\"\" Calcula minha distânica da origem \"\"\"\n",
        "        return ((self.x ** 2) + (self.y ** 2)) ** 0.5\n",
        "    \n",
        "    def ponto_medio(self, alvo):\n",
        "        \"\"\" Retorna o ponto medio entre esse ponto e o alvo \"\"\"\n",
        "        mx = (self.x + alvo.x)/2\n",
        "        my = (self.y + alvo.y)/2\n",
        "        return Ponto(mx, my)\n",
        "    \n",
        "    def __str__(self):\n",
        "        return \"({0}, {1})\".format(self.x, self.y)"
      ],
      "execution_count": 8,
      "outputs": []
    },
    {
      "cell_type": "markdown",
      "metadata": {
        "id": "kYesxbGAzRlG"
      },
      "source": [
        "## Exercícios:\n",
        "\n",
        "1) Escreva uma função que calcula a distância entre dois pontos, usando a classe Ponto que fizemos nessa aula.\n",
        "\n",
        "2) Adicione um método reflexao_x à classe Ponto que retorna uma instância de Ponto, que é o reflexo do Ponto sobre o eixo x. Por exemplo, Point (3, 5) .reflexao_x () é (3, -5)\n",
        "\n",
        "3) Adicione um método ***inclinacao_da_origem*** à classe Ponto, que retorne a inclinação da linha que une a origem ao Ponto. Por exemplo,"
      ]
    },
    {
      "cell_type": "code",
      "metadata": {
        "id": "LL_vBZZozRlG",
        "colab": {
          "base_uri": "https://localhost:8080/",
          "height": 334
        },
        "outputId": "5f1fc871-4627-4f82-e164-d5671cc77dc3"
      },
      "source": [
        "from Ponto import *\n",
        "Ponto(4, 10).inclinacao_origem()\n",
        "2.5"
      ],
      "execution_count": 9,
      "outputs": [
        {
          "output_type": "error",
          "ename": "ModuleNotFoundError",
          "evalue": "ignored",
          "traceback": [
            "\u001b[0;31m---------------------------------------------------------------------------\u001b[0m",
            "\u001b[0;31mModuleNotFoundError\u001b[0m                       Traceback (most recent call last)",
            "\u001b[0;32m<ipython-input-9-ff6c8ed4fd74>\u001b[0m in \u001b[0;36m<module>\u001b[0;34m()\u001b[0m\n\u001b[0;32m----> 1\u001b[0;31m \u001b[0;32mfrom\u001b[0m \u001b[0mPonto\u001b[0m \u001b[0;32mimport\u001b[0m \u001b[0;34m*\u001b[0m\u001b[0;34m\u001b[0m\u001b[0;34m\u001b[0m\u001b[0m\n\u001b[0m\u001b[1;32m      2\u001b[0m \u001b[0mPonto\u001b[0m\u001b[0;34m(\u001b[0m\u001b[0;36m4\u001b[0m\u001b[0;34m,\u001b[0m \u001b[0;36m10\u001b[0m\u001b[0;34m)\u001b[0m\u001b[0;34m.\u001b[0m\u001b[0minclinacao_origem\u001b[0m\u001b[0;34m(\u001b[0m\u001b[0;34m)\u001b[0m\u001b[0;34m\u001b[0m\u001b[0;34m\u001b[0m\u001b[0m\n\u001b[1;32m      3\u001b[0m \u001b[0;36m2.5\u001b[0m\u001b[0;34m\u001b[0m\u001b[0;34m\u001b[0m\u001b[0m\n",
            "\u001b[0;31mModuleNotFoundError\u001b[0m: No module named 'Ponto'",
            "",
            "\u001b[0;31m---------------------------------------------------------------------------\u001b[0;32m\nNOTE: If your import is failing due to a missing package, you can\nmanually install dependencies using either !pip or !apt.\n\nTo view examples of installing some common dependencies, click the\n\"Open Examples\" button below.\n\u001b[0;31m---------------------------------------------------------------------------\u001b[0m\n"
          ]
        }
      ]
    },
    {
      "cell_type": "markdown",
      "metadata": {
        "id": "xmBIFq2VzRlG"
      },
      "source": [
        "O que pode dar errado com esse programa?\n",
        "\n",
        "4) A equação de uma linha reta é “y = ax + b”. Os coeficientes a e b descrevem completamente a reta. Escreva um método na classe Ponto para que, se uma instância Ponto receber outro Ponto, calcule a equação da linha reta que une os dois pontos. Deve retornar os dois coeficientes como uma tupla de dois valores. Por exemplo,"
      ]
    },
    {
      "cell_type": "code",
      "metadata": {
        "id": "63isaQWkzRlG"
      },
      "source": [
        "from Ponto import *\n",
        "print(Ponto(4,11).parametros_reta(Ponto(6,15)))"
      ],
      "execution_count": null,
      "outputs": []
    },
    {
      "cell_type": "markdown",
      "metadata": {
        "id": "bxUd3bSezRlH"
      },
      "source": [
        "O resultado acima nos diz que a equação da reta é y = 2x + 3. Quando esse método falha?"
      ]
    },
    {
      "cell_type": "code",
      "metadata": {
        "id": "W_o-pF0b2K39"
      },
      "source": [
        "# Exercício 1\n",
        "\n",
        "ponto1 = Ponto(4,2)\n",
        "ponto2 = Ponto(3,1)\n",
        "\n",
        "def distancia(ponto1, ponto2):\n",
        "    return (abs(ponto1.x-ponto2.x)**2+abs(ponto1.y-ponto2.y)**2)**(1/2)\n",
        "\n",
        "print(distancia(ponto1, ponto2))"
      ],
      "execution_count": null,
      "outputs": []
    },
    {
      "cell_type": "code",
      "metadata": {
        "id": "EaV3qgoG2G9e"
      },
      "source": [
        "# Exercício 2\n",
        "\n",
        "class Ponto:\n",
        "    \"\"\" Cria um novo Ponto, com coordenadas x, y \"\"\"\n",
        "\n",
        "    def __init__(self, x=0, y=0):\n",
        "        \"\"\" Inicializa em x, y o novo ponto criado pela classe \"\"\"\n",
        "        self.x = x\n",
        "        self.y = y\n",
        "\n",
        "    def distancia_da_origem(self):\n",
        "        \"\"\" Calcula minha distânica da origem \"\"\"\n",
        "        return ((self.x ** 2) + (self.y ** 2)) ** 0.5\n",
        "    \n",
        "    def ponto_medio(self, alvo):\n",
        "        \"\"\" Retorna o ponto medio entre esse ponto e o alvo \"\"\"\n",
        "        mx = (self.x + alvo.x)/2\n",
        "        my = (self.y + alvo.y)/2\n",
        "        return Ponto(mx, my)\n",
        "    \n",
        "    def reflexao_x(self):\n",
        "        \"\"\" Retorna o ponto refletido no eixo x \"\"\"\n",
        "        return Ponto(self.x, -self.y)\n",
        "    \n",
        "    def __str__(self):\n",
        "        return \"({0}, {1})\".format(self.x, self.y)\n",
        "\n",
        "ponto = Ponto(4,2)\n",
        "print(ponto.reflexao_x())\n",
        "ponto = Ponto(3,5)\n",
        "print(ponto.reflexao_x())"
      ],
      "execution_count": null,
      "outputs": []
    },
    {
      "cell_type": "code",
      "metadata": {
        "colab": {
          "base_uri": "https://localhost:8080/"
        },
        "id": "xpXqXiHMfQ_4",
        "outputId": "c973929d-6f95-498c-ecb4-ce46b2529aeb"
      },
      "source": [
        "# Exercício 3\n",
        "\n",
        "class Ponto:\n",
        "    \"\"\" Cria um novo Ponto, com coordenadas x, y \"\"\"\n",
        "\n",
        "    def __init__(self, x=0, y=0):\n",
        "        \"\"\" Inicializa em x, y o novo ponto criado pela classe \"\"\"\n",
        "        self.x = x\n",
        "        self.y = y\n",
        "\n",
        "    def distancia_da_origem(self):\n",
        "        \"\"\" Calcula minha distânica da origem \"\"\"\n",
        "        return ((self.x ** 2) + (self.y ** 2)) ** 0.5\n",
        "    \n",
        "    def ponto_medio(self, alvo):\n",
        "        \"\"\" Retorna o ponto medio entre esse ponto e o alvo \"\"\"\n",
        "        mx = (self.x + alvo.x)/2\n",
        "        my = (self.y + alvo.y)/2\n",
        "        return Ponto(mx, my)\n",
        "    \n",
        "    def reflexao_x(self):\n",
        "        \"\"\" Retorna o ponto refletido no eixo x \"\"\"\n",
        "        return Ponto(self.x, -self.y)\n",
        "\n",
        "    def inclinacao_origem(self):\n",
        "        \"\"\" Retorna a inclinação da linha que une a origem ao Ponto \"\"\"\n",
        "        if self.x == 0:\n",
        "            return False\n",
        "        return self.y/self.x\n",
        "    \n",
        "    def __str__(self):\n",
        "        return \"({0}, {1})\".format(self.x, self.y)\n",
        "\n",
        "Ponto(4, 10).inclinacao_origem()"
      ],
      "execution_count": 11,
      "outputs": [
        {
          "output_type": "execute_result",
          "data": {
            "text/plain": [
              "2.5"
            ]
          },
          "metadata": {
            "tags": []
          },
          "execution_count": 11
        }
      ]
    },
    {
      "cell_type": "markdown",
      "metadata": {
        "id": "suIYamg7f_9V"
      },
      "source": [
        "Pergunta:\n",
        "\n",
        "O que pode dar errado com esse programa?\n",
        "\n",
        "---\n",
        "\n",
        "Resposta:\n",
        "\n",
        "O que pode dar de errado é neste caso é o ponto estar em x = 0. Neste caso, não há divisão por zero e por isso o programa dá problema.\n",
        "\n",
        "Para contornar isso, coloquei para retornar ```False``` neste caso."
      ]
    },
    {
      "cell_type": "code",
      "metadata": {
        "colab": {
          "base_uri": "https://localhost:8080/"
        },
        "id": "7FKGi8vfhFQJ",
        "outputId": "eabd993e-4535-4e0d-f5be-14866fdfc9b3"
      },
      "source": [
        "# Exercício 4\n",
        "\n",
        "class Ponto:\n",
        "    \"\"\" Cria um novo Ponto, com coordenadas x, y \"\"\"\n",
        "\n",
        "    def __init__(self, x=0, y=0):\n",
        "        \"\"\" Inicializa em x, y o novo ponto criado pela classe \"\"\"\n",
        "        self.x = x\n",
        "        self.y = y\n",
        "\n",
        "    def distancia_da_origem(self):\n",
        "        \"\"\" Calcula minha distânica da origem \"\"\"\n",
        "        return ((self.x ** 2) + (self.y ** 2)) ** 0.5\n",
        "    \n",
        "    def ponto_medio(self, alvo):\n",
        "        \"\"\" Retorna o ponto medio entre esse ponto e o alvo \"\"\"\n",
        "        mx = (self.x + alvo.x)/2\n",
        "        my = (self.y + alvo.y)/2\n",
        "        return Ponto(mx, my)\n",
        "    \n",
        "    def reflexao_x(self):\n",
        "        \"\"\" Retorna o ponto refletido no eixo x \"\"\"\n",
        "        return Ponto(self.x, -self.y)\n",
        "\n",
        "    def inclinacao_origem(self):\n",
        "        \"\"\" Retorna a inclinação da linha que une a origem ao Ponto \"\"\"\n",
        "        if self.x == 0:\n",
        "            return False\n",
        "        return self.y/self.x\n",
        "    \n",
        "    def parametros_reta(self, alvo):\n",
        "        \"\"\" Retorna em tupla os coeficientes de uma reta dado um segundo ponto alvo \"\"\"\n",
        "        a = (alvo.y - self.y)/(alvo.x - self.x)\n",
        "        b = self.y - self.x*a\n",
        "        return (a, b)\n",
        "\n",
        "    def __str__(self):\n",
        "        return \"({0}, {1})\".format(self.x, self.y)\n",
        "\n",
        "print(Ponto(4,11).parametros_reta(Ponto(6,15)))"
      ],
      "execution_count": 14,
      "outputs": [
        {
          "output_type": "stream",
          "text": [
            "(2.0, 3.0)\n"
          ],
          "name": "stdout"
        }
      ]
    }
  ]
}