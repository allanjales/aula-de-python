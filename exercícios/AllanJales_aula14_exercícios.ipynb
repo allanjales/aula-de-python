{
  "nbformat": 4,
  "nbformat_minor": 0,
  "metadata": {
    "kernelspec": {
      "display_name": "Python 3",
      "language": "python",
      "name": "python3"
    },
    "language_info": {
      "codemirror_mode": {
        "name": "ipython",
        "version": 3
      },
      "file_extension": ".py",
      "mimetype": "text/x-python",
      "name": "python",
      "nbconvert_exporter": "python",
      "pygments_lexer": "ipython3",
      "version": "3.7.0"
    },
    "colab": {
      "name": "AllanJales_aula14_exercícios.ipynb",
      "provenance": [],
      "collapsed_sections": [],
      "include_colab_link": true
    }
  },
  "cells": [
    {
      "cell_type": "markdown",
      "metadata": {
        "id": "view-in-github",
        "colab_type": "text"
      },
      "source": [
        "<a href=\"https://colab.research.google.com/github/allanjales/aulas-de-python/blob/master/exerc%C3%ADcios/AllanJales_aula14_exerc%C3%ADcios.ipynb\" target=\"_parent\"><img src=\"https://colab.research.google.com/assets/colab-badge.svg\" alt=\"Open In Colab\"/></a>"
      ]
    },
    {
      "cell_type": "markdown",
      "metadata": {
        "id": "AWVa6aCIKT4B"
      },
      "source": [
        "### Exercício:\n",
        " Adicionar um método `__str__` para que os objetos MeuTempo possam se imprimir decentemente."
      ]
    },
    {
      "cell_type": "code",
      "metadata": {
        "colab": {
          "base_uri": "https://localhost:8080/"
        },
        "id": "zvcxeIvW1Z6N",
        "outputId": "b25a2f72-776b-4d6d-afb3-e3ce3682777e"
      },
      "source": [
        "class MeuTempo :\r\n",
        "\r\n",
        "    def __init__(self, hrs = 0, mins = 0, segs = 0): \r\n",
        "        \"\" \"Criar um objeto MeuTempo inicializado para hrs, mins, segs\" \"\" \r\n",
        "        self.horas = hrs \r\n",
        "        self.minutos = mins\r\n",
        "        self.segundos = segs\r\n",
        "    \r\n",
        "    def __str__(self):\r\n",
        "        return str(self.horas) + \":\" + str(self.minutos) + \":\" + str(self.segundos)\r\n",
        "\r\n",
        "\r\n",
        "tim1 = MeuTempo(11 , 59, 30)\r\n",
        "print(tim1)"
      ],
      "execution_count": 4,
      "outputs": [
        {
          "output_type": "stream",
          "text": [
            "11:59:30\n"
          ],
          "name": "stdout"
        }
      ]
    },
    {
      "cell_type": "markdown",
      "metadata": {
        "id": "Z9lsAu7uKT4E"
      },
      "source": [
        "#### Exercício: adicione um método `__sub __ (self, other)` que sobrecarrega o operador de subtração e teste-o."
      ]
    },
    {
      "cell_type": "code",
      "metadata": {
        "id": "hkkDuyMUKT4E",
        "colab": {
          "base_uri": "https://localhost:8080/"
        },
        "outputId": "0c151244-c1ca-422e-c1fc-f08b1f4a5082"
      },
      "source": [
        "class  MeuTempo : \n",
        "    # Métodos previamente definidos aqui ... \n",
        "    def  __init__ ( self ,  hrs = 0 ,  mins = 0 ,  segs = 0 ): \n",
        "        \"\"\" Criar um novo objeto MeuTempo inicializado para hrs, min, segs. \n",
        "           Os valores de mins e segs podem estar fora do intervalo de 0-59, \n",
        "           mas o objecto MeuTempo resultante será normalizado.  \"\"\" \n",
        "        # Calcular total de segundos para representar \n",
        "        self.totalsegs =  hrs * 3600  +  mins * 60  +  segs \n",
        "        self.horas =  self.totalsegs  //  3600         # Divisão em h, m, s \n",
        "        restosegs =  self.totalsegs  %  3600 \n",
        "        self.minutos  =  restosegs  //  60 \n",
        "        self.segundos  =  restosegs  %  60\n",
        "        if self.horas >=24:\n",
        "            self.horas = self.horas%24\n",
        "    \n",
        "    def  to_seconds ( self ): \n",
        "        \"\" \"Retorna o número de segundos representados por esta instância \" \"\" \n",
        "        return  self.totalsegs\n",
        "    \n",
        "    def  __add__ ( self ,  other ): \n",
        "        \"\"\" Retorna a soma do tempo atual e outro, para utilizar com o simbolo + \"\"\"\n",
        "        return  MeuTempo ( 0 ,  0 ,  self.to_seconds()  +  other.to_seconds())\n",
        "    \n",
        "    def  __sub__ ( self ,  other ): \n",
        "        \"\"\" Retorna a soma do tempo atual e outro, para utilizar com o simbolo + \"\"\"\n",
        "        return  MeuTempo ( 0 ,  0 ,  self.to_seconds()  -  other.to_seconds())\n",
        "    \n",
        "    def __str__(self):\n",
        "        \"\"\"Retorna uma representação do objeto como string, legível para humanos.\"\"\"\n",
        "        return '%.2d:%.2d:%.2d' % (self.horas, self.minutos, self.segundos)\n",
        "\n",
        "a=MeuTempo(1,40,30)\n",
        "b=MeuTempo(12,55,15)\n",
        "print(b, '-', a, '=', b - a)"
      ],
      "execution_count": 7,
      "outputs": [
        {
          "output_type": "stream",
          "text": [
            "12:55:15 - 01:40:30 = 11:14:45\n"
          ],
          "name": "stdout"
        }
      ]
    },
    {
      "cell_type": "markdown",
      "metadata": {
        "id": "8p6Ps61XKT4L"
      },
      "source": [
        "##  Exercícios \n",
        "1. Escreva uma função booleana  chamada `entre`  que tome dois objetos MeuTempo, t1 e t2 , como argumentos, e retorne `True` se um terceiro objeto MeuTempo invocado estiver entre os dois tempos. Suponha que o tempo t1 <= t2 , e faça o teste fechado no limite inferior e abra no limite superior, isto é, retorne True se t1 <= obj < t2.\n",
        "\n",
        "1. Transforme a função acima em um método na classe MeuTempo.\n",
        "\n",
        "1. Sobrecarregue o(s) operador(es) necessário(s)  --ver a lista de métodos especiais em https://docs.python.org/3/reference/datamodel.html#special-method-names -- para que, em vez de ter que escrever :\n",
        "```python\n",
        "if t1.depois( t2 ):  \n",
        "     ...\n",
        "```\n",
        "possamos usar o mais conveniente:\n",
        "```python\n",
        "if t1  >  t2 :  \n",
        "     ...\n",
        "```\n",
        "\n",
        "1. Defina um novo tipo de tartaruga, TurtleGTX, que venha com alguns recursos extras: ela pode saltar para uma determinada distância, e tem um odômetro que rastreia até onde a tartaruga viajou desde que saiu da linha de produção. (A classe base tem vários sinônimos como `fd` e `forward` ; `back` , `backward` e `bk` : para este exercício, concentre-se **apenas** em colocar essa funcionalidade no método `forward`.) Pense cuidadosamente sobre como contar a distância se a tartaruga for solicitada a avançar por um valor negativo. (Não gostaríamos de comprar uma tartaruga de segunda mão cuja leitura do odômetro foi falsificada porque seu proprietário anterior a levou para trás ao redor do quarteirão com muita frequência. Tente isso em um carro perto de você e veja se o odômetro do carro conta para cima ou para baixo quando você marcha ré.)\n",
        "\n",
        "1. Depois de percorrer uma distância aleatória, sua tartaruga deve quebrar com um pneu furado. Depois disso, aumente uma exceção sempre que `forward` for chamado. Também forneça um método `trocar_pneu` que possa consertar o pneu furado e eliminar a exceção para a tartaruga continuar seu percorso."
      ]
    },
    {
      "cell_type": "code",
      "metadata": {
        "colab": {
          "base_uri": "https://localhost:8080/"
        },
        "id": "V1axF7yCEcLi",
        "outputId": "3b113082-f83b-4756-9459-4fdabedababa"
      },
      "source": [
        "# Exercício 1\r\n",
        "\r\n",
        "def entre(t, t1, t2):\r\n",
        "    if t.to_seconds() >= t1.to_seconds() and t.to_seconds() < t2.to_seconds():\r\n",
        "        return True\r\n",
        "    return False\r\n",
        "\r\n",
        "a=MeuTempo(1,40,30)\r\n",
        "b=MeuTempo(12,55,15)\r\n",
        "c=MeuTempo(10,45,15)\r\n",
        "c.entre(a, b)"
      ],
      "execution_count": 22,
      "outputs": [
        {
          "output_type": "execute_result",
          "data": {
            "text/plain": [
              "True"
            ]
          },
          "metadata": {
            "tags": []
          },
          "execution_count": 22
        }
      ]
    },
    {
      "cell_type": "code",
      "metadata": {
        "id": "JaOXgrqdKT4L",
        "colab": {
          "base_uri": "https://localhost:8080/"
        },
        "outputId": "f212dde6-443e-46a5-82d7-20271c068e22"
      },
      "source": [
        "# Exercício 2\r\n",
        "\r\n",
        "class  MeuTempo : \r\n",
        "    # Métodos previamente definidos aqui ... \r\n",
        "    def  __init__ ( self ,  hrs = 0 ,  mins = 0 ,  segs = 0 ): \r\n",
        "        \"\"\" Criar um novo objeto MeuTempo inicializado para hrs, min, segs. \r\n",
        "           Os valores de mins e segs podem estar fora do intervalo de 0-59, \r\n",
        "           mas o objecto MeuTempo resultante será normalizado.  \"\"\" \r\n",
        "        # Calcular total de segundos para representar \r\n",
        "        self.totalsegs =  hrs * 3600  +  mins * 60  +  segs \r\n",
        "        self.horas =  self.totalsegs  //  3600         # Divisão em h, m, s \r\n",
        "        restosegs =  self.totalsegs  %  3600 \r\n",
        "        self.minutos  =  restosegs  //  60 \r\n",
        "        self.segundos  =  restosegs  %  60\r\n",
        "        if self.horas >=24:\r\n",
        "            self.horas = self.horas%24\r\n",
        "    \r\n",
        "    def  to_seconds ( self ): \r\n",
        "        \"\" \"Retorna o número de segundos representados por esta instância \" \"\" \r\n",
        "        return  self.totalsegs\r\n",
        "    \r\n",
        "    def  __add__ ( self ,  other ): \r\n",
        "        \"\"\" Retorna a soma do tempo atual e outro, para utilizar com o simbolo + \"\"\"\r\n",
        "        return  MeuTempo ( 0 ,  0 ,  self.to_seconds()  +  other.to_seconds())\r\n",
        "    \r\n",
        "    def  __sub__ ( self ,  other ): \r\n",
        "        \"\"\" Retorna a soma do tempo atual e outro, para utilizar com o simbolo + \"\"\"\r\n",
        "        return  MeuTempo ( 0 ,  0 ,  self.to_seconds()  -  other.to_seconds())\r\n",
        "    \r\n",
        "    def __str__(self):\r\n",
        "        \"\"\"Retorna uma representação do objeto como string, legível para humanos.\"\"\"\r\n",
        "        return '%.2d:%.2d:%.2d' % (self.horas, self.minutos, self.segundos)\r\n",
        "\r\n",
        "    def entre(self, other1, other2):\r\n",
        "        if self.to_seconds() >= other1.to_seconds() and self.to_seconds() < other2.to_seconds():\r\n",
        "            return True\r\n",
        "        return False\r\n",
        "\r\n",
        "a=MeuTempo(1,40,30)\r\n",
        "b=MeuTempo(12,55,15)\r\n",
        "c=MeuTempo(10,45,15)\r\n",
        "c.entre(a, b)"
      ],
      "execution_count": 23,
      "outputs": [
        {
          "output_type": "execute_result",
          "data": {
            "text/plain": [
              "True"
            ]
          },
          "metadata": {
            "tags": []
          },
          "execution_count": 23
        }
      ]
    },
    {
      "cell_type": "code",
      "metadata": {
        "colab": {
          "base_uri": "https://localhost:8080/"
        },
        "id": "0FrFS-uRE72o",
        "outputId": "e981b512-6101-4b4a-af0a-fd1fe778855e"
      },
      "source": [
        "# Exercício 3\r\n",
        "\r\n",
        "class  MeuTempo : \r\n",
        "    # Métodos previamente definidos aqui ... \r\n",
        "    def  __init__ ( self ,  hrs = 0 ,  mins = 0 ,  segs = 0 ): \r\n",
        "        \"\"\" Criar um novo objeto MeuTempo inicializado para hrs, min, segs. \r\n",
        "           Os valores de mins e segs podem estar fora do intervalo de 0-59, \r\n",
        "           mas o objecto MeuTempo resultante será normalizado.  \"\"\" \r\n",
        "        # Calcular total de segundos para representar \r\n",
        "        self.totalsegs =  hrs * 3600  +  mins * 60  +  segs \r\n",
        "        self.horas =  self.totalsegs  //  3600         # Divisão em h, m, s \r\n",
        "        restosegs =  self.totalsegs  %  3600 \r\n",
        "        self.minutos  =  restosegs  //  60 \r\n",
        "        self.segundos  =  restosegs  %  60\r\n",
        "        if self.horas >=24:\r\n",
        "            self.horas = self.horas%24\r\n",
        "    \r\n",
        "    def  to_seconds ( self ): \r\n",
        "        \"\" \"Retorna o número de segundos representados por esta instância \" \"\" \r\n",
        "        return  self.totalsegs\r\n",
        "    \r\n",
        "    def  __add__ ( self ,  other ): \r\n",
        "        \"\"\" Retorna a soma do tempo atual e outro, para utilizar com o simbolo + \"\"\"\r\n",
        "        return  MeuTempo ( 0 ,  0 ,  self.to_seconds()  +  other.to_seconds())\r\n",
        "    \r\n",
        "    def  __sub__ ( self ,  other ): \r\n",
        "        \"\"\" Retorna a soma do tempo atual e outro, para utilizar com o simbolo + \"\"\"\r\n",
        "        return  MeuTempo ( 0 ,  0 ,  self.to_seconds()  -  other.to_seconds())\r\n",
        "    \r\n",
        "    def __str__(self):\r\n",
        "        \"\"\"Retorna uma representação do objeto como string, legível para humanos.\"\"\"\r\n",
        "        return '%.2d:%.2d:%.2d' % (self.horas, self.minutos, self.segundos)\r\n",
        "\r\n",
        "    def __gt__(self, other):\r\n",
        "        if self.to_seconds() > other.to_seconds():\r\n",
        "            return True\r\n",
        "        return False\r\n",
        "        \r\n",
        "\r\n",
        "    def entre(self, other1, other2):\r\n",
        "        if self.to_seconds() >= other1.to_seconds() and self.to_seconds() < other2.to_seconds():\r\n",
        "            return True\r\n",
        "        return False\r\n",
        "\r\n",
        "a=MeuTempo(1,40,30)\r\n",
        "b=MeuTempo(12,55,15)\r\n",
        "b > a"
      ],
      "execution_count": 27,
      "outputs": [
        {
          "output_type": "execute_result",
          "data": {
            "text/plain": [
              "True"
            ]
          },
          "metadata": {
            "tags": []
          },
          "execution_count": 27
        }
      ]
    },
    {
      "cell_type": "code",
      "metadata": {
        "colab": {
          "base_uri": "https://localhost:8080/"
        },
        "id": "uL0JysC6GEpU",
        "outputId": "8232998a-3d1a-4634-fa3c-2e9ab04eb1dd"
      },
      "source": [
        "# Instala e importa o ColabTurtle\r\n",
        "!pip3 install ColabTurtle\r\n",
        "import ColabTurtle"
      ],
      "execution_count": 28,
      "outputs": [
        {
          "output_type": "stream",
          "text": [
            "Collecting ColabTurtle\n",
            "  Downloading https://files.pythonhosted.org/packages/49/01/6da7091c2c6c917cce99c000b89acb6aa27b66ef6eafc0c0ccf59b98694f/ColabTurtle-2.0.0.tar.gz\n",
            "Building wheels for collected packages: ColabTurtle\n",
            "  Building wheel for ColabTurtle (setup.py) ... \u001b[?25l\u001b[?25hdone\n",
            "  Created wheel for ColabTurtle: filename=ColabTurtle-2.0.0-cp36-none-any.whl size=4032 sha256=7229726c4734fb401b55fc44cee8c3c5e0caa8aa4ebac551631b3b10a47f88cb\n",
            "  Stored in directory: /root/.cache/pip/wheels/a8/29/ec/ad346f0042ae467cc74f4378916348faf975b07890651dcae7\n",
            "Successfully built ColabTurtle\n",
            "Installing collected packages: ColabTurtle\n",
            "Successfully installed ColabTurtle-2.0.0\n"
          ],
          "name": "stdout"
        }
      ]
    },
    {
      "cell_type": "code",
      "metadata": {
        "colab": {
          "base_uri": "https://localhost:8080/",
          "height": 538
        },
        "id": "82JI-8Q0Rejm",
        "outputId": "9b666a7d-e485-4601-952b-c6cdb7b55ef7"
      },
      "source": [
        "# Exercício 4\r\n",
        "import ColabTurtle.Turtle\r\n",
        "\r\n",
        "# Infelizmente não consegui criar uma subclasse do módulo turtle, então fiz assim:\r\n",
        "\r\n",
        "class TurtleGTX:\r\n",
        "    def __init__(self):\r\n",
        "        self.odometer = 0\r\n",
        "        self.turtle = ColabTurtle.Turtle\r\n",
        "\r\n",
        "    def initializeTurtle(self):\r\n",
        "        self.turtle.initializeTurtle()\r\n",
        "\r\n",
        "    def speed(self, speed):\r\n",
        "        self.turtle.speed(speed)\r\n",
        "\r\n",
        "    def left(self, angle):\r\n",
        "        self.turtle.left(angle)\r\n",
        "\r\n",
        "    def right(self, angle):\r\n",
        "        self.turtle.right(angle)\r\n",
        "    \r\n",
        "    def forward(self, distance):\r\n",
        "        self.odometer += abs(distance)\r\n",
        "        self.turtle.forward(distance)\r\n",
        "\r\n",
        "joana = TurtleGTX()\r\n",
        "joana.initializeTurtle()\r\n",
        "joana.speed(7)\r\n",
        "for i in range(4):\r\n",
        "    joana.forward(50)\r\n",
        "    joana.left(90)\r\n",
        "\r\n",
        "print('Distância andada:', joana.odometer)"
      ],
      "execution_count": 116,
      "outputs": [
        {
          "output_type": "display_data",
          "data": {
            "text/html": [
              "\n",
              "      <svg width=\"800\" height=\"500\">\n",
              "        <rect width=\"100%\" height=\"100%\" fill=\"black\"/>\n",
              "        <line x1=\"400\" y1=\"250\" x2=\"400.0\" y2=\"200.0\" stroke-linecap=\"round\" style=\"stroke:white;stroke-width:4\"/><line x1=\"400.0\" y1=\"200.0\" x2=\"350.0\" y2=\"200.0\" stroke-linecap=\"round\" style=\"stroke:white;stroke-width:4\"/><line x1=\"350.0\" y1=\"200.0\" x2=\"350.0\" y2=\"250.0\" stroke-linecap=\"round\" style=\"stroke:white;stroke-width:4\"/><line x1=\"350.0\" y1=\"250.0\" x2=\"400.0\" y2=\"250.0\" stroke-linecap=\"round\" style=\"stroke:white;stroke-width:4\"/>\n",
              "        \n",
              "      <g visibility=visible transform=\"rotate(180,400.0,250.0) translate(400.0, 250.0)\">\n",
              "        <circle stroke=\"white\" stroke-width=\"3\" fill=\"transparent\" r=\"12\" cx=\"0\" cy=\"0\"/>\n",
              "        <polygon points=\"0,19 3,16 -3,16\" style=\"fill:white;stroke:white;stroke-width:2\"/>\n",
              "      </g>\n",
              "    \n",
              "      </svg>\n",
              "    "
            ],
            "text/plain": [
              "<IPython.core.display.HTML object>"
            ]
          },
          "metadata": {
            "tags": []
          }
        },
        {
          "output_type": "stream",
          "text": [
            "Distância andada: 200\n"
          ],
          "name": "stdout"
        }
      ]
    },
    {
      "cell_type": "code",
      "metadata": {
        "colab": {
          "base_uri": "https://localhost:8080/",
          "height": 640
        },
        "id": "Qw2MQvRyMFsx",
        "outputId": "a6cab495-4133-4f8e-dc47-4d27633c2ae6"
      },
      "source": [
        "# Exercício 5\r\n",
        "import ColabTurtle.Turtle\r\n",
        "from random import gauss\r\n",
        "\r\n",
        "# Infelizmente não consegui criar uma subclasse do módulo turtle, então será assim mesmo:\r\n",
        "\r\n",
        "class TurtleGTX:\r\n",
        "    def __init__(self):\r\n",
        "        self.odometer   = 0\r\n",
        "        self.turtle     = ColabTurtle.Turtle\r\n",
        "\r\n",
        "        self.nextBreak  = int(gauss(250, 100))  # Em qual distância deve quebrar\r\n",
        "        self.isBroken   = False\r\n",
        "\r\n",
        "    def initializeTurtle(self):\r\n",
        "        self.turtle.initializeTurtle()\r\n",
        "\r\n",
        "    def speed(self, speed):\r\n",
        "        self.turtle.speed(speed)\r\n",
        "\r\n",
        "    def left(self, angle):\r\n",
        "        self.turtle.left(angle)\r\n",
        "\r\n",
        "    def right(self, angle):\r\n",
        "        self.turtle.right(angle)\r\n",
        "    \r\n",
        "    def forward(self, distance, auto_trocar_pneu = False):\r\n",
        "        if not self.isBroken:\r\n",
        "            # Se passar da distância que deve quebrar\r\n",
        "            if self.nextBreak <= distance + self.odometer:\r\n",
        "\r\n",
        "                # Quebra\r\n",
        "                self.isBroken = True\r\n",
        "\r\n",
        "                # Calcula a distância que dá pra andar\r\n",
        "                distance = self.nextBreak - self.odometer\r\n",
        "\r\n",
        "            self.odometer += abs(distance)\r\n",
        "            self.turtle.forward(distance)\r\n",
        "        else:\r\n",
        "            print('Tem que trocar pneu! Quebrado à distância', self.odometer)\r\n",
        "\r\n",
        "            # Se pedir pra trocar de pneu automaticamente, troca\r\n",
        "            if auto_trocar_pneu:\r\n",
        "                self.trocar_pneu()\r\n",
        "\r\n",
        "    def trocar_pneu(self):\r\n",
        "        # Calcula em qual nova distância nova deve quebrar\r\n",
        "        self.nextBreak = self.odometer + int(gauss(250, 100))\r\n",
        "        \r\n",
        "        # Troca o pneu\r\n",
        "        self.isBroken = False\r\n",
        "        print('Pneus trocados!')\r\n",
        "\r\n",
        "joana = TurtleGTX()\r\n",
        "joana.initializeTurtle()\r\n",
        "joana.speed(7)\r\n",
        "for i in range(35):\r\n",
        "    joana.forward(25, True)\r\n",
        "    joana.left(10)\r\n",
        "\r\n",
        "print('Distância andada:', joana.odometer)"
      ],
      "execution_count": 117,
      "outputs": [
        {
          "output_type": "display_data",
          "data": {
            "text/html": [
              "\n",
              "      <svg width=\"800\" height=\"500\">\n",
              "        <rect width=\"100%\" height=\"100%\" fill=\"black\"/>\n",
              "        <line x1=\"400\" y1=\"250\" x2=\"400.0\" y2=\"225.0\" stroke-linecap=\"round\" style=\"stroke:white;stroke-width:4\"/><line x1=\"400.0\" y1=\"225.0\" x2=\"395.65879555832674\" y2=\"200.3798061746948\" stroke-linecap=\"round\" style=\"stroke:white;stroke-width:4\"/><line x1=\"395.65879555832674\" y1=\"200.3798061746948\" x2=\"387.108291975185\" y2=\"176.8874906550471\" stroke-linecap=\"round\" style=\"stroke:white;stroke-width:4\"/><line x1=\"387.108291975185\" y1=\"176.8874906550471\" x2=\"374.608291975185\" y2=\"155.23685556043614\" stroke-linecap=\"round\" style=\"stroke:white;stroke-width:4\"/><line x1=\"374.608291975185\" y1=\"155.23685556043614\" x2=\"358.53860173302155\" y2=\"136.08574448246168\" stroke-linecap=\"round\" style=\"stroke:white;stroke-width:4\"/><line x1=\"358.53860173302155\" y1=\"136.08574448246168\" x2=\"339.3874906550471\" y2=\"120.01605424029819\" stroke-linecap=\"round\" style=\"stroke:white;stroke-width:4\"/><line x1=\"339.3874906550471\" y1=\"120.01605424029819\" x2=\"337.6554398474782\" y2=\"119.01605424029819\" stroke-linecap=\"round\" style=\"stroke:white;stroke-width:4\"/><line x1=\"337.6554398474782\" y1=\"119.01605424029819\" x2=\"313.035246022173\" y2=\"114.67484979862493\" stroke-linecap=\"round\" style=\"stroke:white;stroke-width:4\"/><line x1=\"313.035246022173\" y1=\"114.67484979862493\" x2=\"288.035246022173\" y2=\"114.67484979862493\" stroke-linecap=\"round\" style=\"stroke:white;stroke-width:4\"/><line x1=\"288.035246022173\" y1=\"114.67484979862493\" x2=\"263.4150521968678\" y2=\"119.01605424029819\" stroke-linecap=\"round\" style=\"stroke:white;stroke-width:4\"/><line x1=\"263.4150521968678\" y1=\"119.01605424029819\" x2=\"239.9227366772201\" y2=\"127.56655782343991\" stroke-linecap=\"round\" style=\"stroke:white;stroke-width:4\"/><line x1=\"239.9227366772201\" y1=\"127.56655782343991\" x2=\"218.2721015826091\" y2=\"140.0665578234399\" stroke-linecap=\"round\" style=\"stroke:white;stroke-width:4\"/><line x1=\"218.2721015826091\" y1=\"140.0665578234399\" x2=\"199.12099050463468\" y2=\"156.13624806560338\" stroke-linecap=\"round\" style=\"stroke:white;stroke-width:4\"/><line x1=\"199.12099050463468\" y1=\"156.13624806560338\" x2=\"183.0513002624712\" y2=\"175.28735914357785\" stroke-linecap=\"round\" style=\"stroke:white;stroke-width:4\"/><line x1=\"183.0513002624712\" y1=\"175.28735914357785\" x2=\"170.5513002624712\" y2=\"196.93799423818882\" stroke-linecap=\"round\" style=\"stroke:white;stroke-width:4\"/><line x1=\"170.5513002624712\" y1=\"196.93799423818882\" x2=\"162.00079667932948\" y2=\"220.43030975783654\" stroke-linecap=\"round\" style=\"stroke:white;stroke-width:4\"/><line x1=\"162.00079667932948\" y1=\"220.43030975783654\" x2=\"157.65959223765623\" y2=\"245.05050358314173\" stroke-linecap=\"round\" style=\"stroke:white;stroke-width:4\"/><line x1=\"157.65959223765623\" y1=\"245.05050358314173\" x2=\"157.65959223765623\" y2=\"270.05050358314173\" stroke-linecap=\"round\" style=\"stroke:white;stroke-width:4\"/><line x1=\"157.65959223765623\" y1=\"270.05050358314173\" x2=\"162.00079667932948\" y2=\"294.6706974084469\" stroke-linecap=\"round\" style=\"stroke:white;stroke-width:4\"/><line x1=\"162.00079667932948\" y1=\"294.6706974084469\" x2=\"169.5252398324942\" y2=\"315.3439350657369\" stroke-linecap=\"round\" style=\"stroke:white;stroke-width:4\"/><line x1=\"169.5252398324942\" y1=\"315.3439350657369\" x2=\"185.5949300746577\" y2=\"334.49504614371136\" stroke-linecap=\"round\" style=\"stroke:white;stroke-width:4\"/><line x1=\"185.5949300746577\" y1=\"334.49504614371136\" x2=\"204.74604115263216\" y2=\"350.5647363858748\" stroke-linecap=\"round\" style=\"stroke:white;stroke-width:4\"/><line x1=\"204.74604115263216\" y1=\"350.5647363858748\" x2=\"226.39667624724314\" y2=\"363.0647363858748\" stroke-linecap=\"round\" style=\"stroke:white;stroke-width:4\"/><line x1=\"226.39667624724314\" y1=\"363.0647363858748\" x2=\"249.88899176689085\" y2=\"371.61523996901656\" stroke-linecap=\"round\" style=\"stroke:white;stroke-width:4\"/><line x1=\"249.88899176689085\" y1=\"371.61523996901656\" x2=\"274.50918559219605\" y2=\"375.9564444106898\" stroke-linecap=\"round\" style=\"stroke:white;stroke-width:4\"/><line x1=\"274.50918559219605\" y1=\"375.9564444106898\" x2=\"293.50918559219605\" y2=\"375.9564444106898\" stroke-linecap=\"round\" style=\"stroke:white;stroke-width:4\"/><line x1=\"293.50918559219605\" y1=\"375.9564444106898\" x2=\"317.00150111184377\" y2=\"367.4059408275481\" stroke-linecap=\"round\" style=\"stroke:white;stroke-width:4\"/><line x1=\"317.00150111184377\" y1=\"367.4059408275481\" x2=\"338.6521362064547\" y2=\"354.9059408275481\" stroke-linecap=\"round\" style=\"stroke:white;stroke-width:4\"/><line x1=\"338.6521362064547\" y1=\"354.9059408275481\" x2=\"357.8032472844292\" y2=\"338.8362505853846\" stroke-linecap=\"round\" style=\"stroke:white;stroke-width:4\"/><line x1=\"357.8032472844292\" y1=\"338.8362505853846\" x2=\"373.87293752659264\" y2=\"319.68513950741016\" stroke-linecap=\"round\" style=\"stroke:white;stroke-width:4\"/><line x1=\"373.87293752659264\" y1=\"319.68513950741016\" x2=\"386.37293752659264\" y2=\"298.0345044127992\" stroke-linecap=\"round\" style=\"stroke:white;stroke-width:4\"/><line x1=\"386.37293752659264\" y1=\"298.0345044127992\" x2=\"394.92344110973437\" y2=\"274.5421888931515\" stroke-linecap=\"round\" style=\"stroke:white;stroke-width:4\"/>\n",
              "        \n",
              "      <g visibility=visible transform=\"rotate(190,394.92344110973437,274.5421888931515) translate(394.92344110973437, 274.5421888931515)\">\n",
              "        <circle stroke=\"white\" stroke-width=\"3\" fill=\"transparent\" r=\"12\" cx=\"0\" cy=\"0\"/>\n",
              "        <polygon points=\"0,19 3,16 -3,16\" style=\"fill:white;stroke:white;stroke-width:2\"/>\n",
              "      </g>\n",
              "    \n",
              "      </svg>\n",
              "    "
            ],
            "text/plain": [
              "<IPython.core.display.HTML object>"
            ]
          },
          "metadata": {
            "tags": []
          }
        },
        {
          "output_type": "stream",
          "text": [
            "Tem que trocar pneu! Quebrado à distância 152\n",
            "Pneus trocados!\n",
            "Tem que trocar pneu! Quebrado à distância 474\n",
            "Pneus trocados!\n",
            "Tem que trocar pneu! Quebrado à distância 618\n",
            "Pneus trocados!\n",
            "Distância andada: 768\n"
          ],
          "name": "stdout"
        }
      ]
    }
  ]
}