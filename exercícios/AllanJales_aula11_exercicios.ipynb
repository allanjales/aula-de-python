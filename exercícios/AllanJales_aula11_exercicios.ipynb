{
  "nbformat": 4,
  "nbformat_minor": 0,
  "metadata": {
    "kernelspec": {
      "display_name": "Python 3",
      "language": "python",
      "name": "python3"
    },
    "language_info": {
      "codemirror_mode": {
        "name": "ipython",
        "version": 3
      },
      "file_extension": ".py",
      "mimetype": "text/x-python",
      "name": "python",
      "nbconvert_exporter": "python",
      "pygments_lexer": "ipython3",
      "version": "3.6.4"
    },
    "colab": {
      "name": "AllanJales_aula11_exercicios.ipynb",
      "provenance": [],
      "include_colab_link": true
    }
  },
  "cells": [
    {
      "cell_type": "markdown",
      "metadata": {
        "id": "view-in-github",
        "colab_type": "text"
      },
      "source": [
        "<a href=\"https://colab.research.google.com/github/allanjales/aulas-de-python/blob/master/exerc%C3%ADcios/AllanJales_aula11_exercicios.ipynb\" target=\"_parent\"><img src=\"https://colab.research.google.com/assets/colab-badge.svg\" alt=\"Open In Colab\"/></a>"
      ]
    },
    {
      "cell_type": "markdown",
      "metadata": {
        "id": "rDXrBE-d7Nky"
      },
      "source": [
        "## Exercícios:\n",
        "\n",
        "1) Utilizando dicionários e o método ***get***, contrua a seguinte matriz em python e acesse os valores de índices (0,3), (2,1), (4,3) e (2,2).\n",
        "![matrix](https://github.com/malbouis/Python_intro/blob/master/aulas_2019/pics/matrix_aula12.png?raw=1)"
      ]
    },
    {
      "cell_type": "code",
      "metadata": {
        "id": "125WPpu27Nkz",
        "colab": {
          "base_uri": "https://localhost:8080/"
        },
        "outputId": "91a74490-c0e1-467e-c4d4-74fae5b01792"
      },
      "source": [
        "# Exercício 1\n",
        "\n",
        "# Cria uma matriz vazia\n",
        "def create_matrix(rows, cols, default_value=0):\n",
        "    matrix = {}\n",
        "    for i in range(rows):\n",
        "        for j in range(cols):\n",
        "            matrix.update({(i,j): default_value})\n",
        "    return matrix\n",
        "\n",
        "matrix = create_matrix(5, 5)\n",
        "matrix.update({(0,3): 1, (2,1): 2, (4,3): 3})\n",
        "\n",
        "print(matrix.get((0,3)))\n",
        "print(matrix.get((2,1)))\n",
        "print(matrix.get((4,3)))\n",
        "print(matrix.get((2,2)))"
      ],
      "execution_count": 6,
      "outputs": [
        {
          "output_type": "stream",
          "text": [
            "1\n",
            "2\n",
            "3\n",
            "0\n"
          ],
          "name": "stdout"
        }
      ]
    },
    {
      "cell_type": "markdown",
      "metadata": {
        "id": "Uq6sTtnq7Nky"
      },
      "source": [
        "2) Contagem de Letras. \n",
        "\n",
        "a) Utilizando dicionários, escreva uma função que tome como argumento uma palavra (string) e  retorne um dicionário que tem como ***key*** a letra da palavra e como valor o número de vezes que ela aparece na palavra. Tal dicionário é chamado de **tabela de frequência**.\n",
        "***Dica***: Utilize o método ***get*** dos dicionários.\n",
        "\n",
        "b) Utilizando os métodos sort() (referente a listas) e items() (referente a dicionários), imprima na tela uma lista ordenada alfabeticamente da tabela de frequência obtida no item a)."
      ]
    },
    {
      "cell_type": "code",
      "metadata": {
        "colab": {
          "base_uri": "https://localhost:8080/"
        },
        "id": "2TEPFrJ8ULAP",
        "outputId": "6c2bd565-ff92-445b-8859-f261b06d0e1e"
      },
      "source": [
        "# Exercício 2 a)\n",
        "\n",
        "def char_frequency(string):\n",
        "    dict = {}\n",
        "    for letter in string:\n",
        "        if letter in dict:\n",
        "            dict[letter] += 1\n",
        "        else:\n",
        "            dict[letter] = 1\n",
        "    return dict\n",
        "\n",
        "print(char_frequency(\"panaca\"))"
      ],
      "execution_count": 7,
      "outputs": [
        {
          "output_type": "stream",
          "text": [
            "{'p': 1, 'a': 3, 'n': 1, 'c': 1}\n"
          ],
          "name": "stdout"
        }
      ]
    },
    {
      "cell_type": "code",
      "metadata": {
        "colab": {
          "base_uri": "https://localhost:8080/"
        },
        "id": "InU98TUzYAbz",
        "outputId": "b9b1dc2e-1a1a-4b3e-830c-8cb965576797"
      },
      "source": [
        "# Exercício 2 b)\n",
        "\n",
        "# Read the dict as tuple\n",
        "tuple = list(char_frequency(\"panaca\").items())\n",
        "\n",
        "# Sort tuple\n",
        "tuple.sort(key=lambda x: x[0])\n",
        "\n",
        "# Print ordered tuple\n",
        "print(tuple)"
      ],
      "execution_count": 8,
      "outputs": [
        {
          "output_type": "stream",
          "text": [
            "[('a', 3), ('c', 1), ('n', 1), ('p', 1)]\n"
          ],
          "name": "stdout"
        }
      ]
    },
    {
      "cell_type": "markdown",
      "metadata": {
        "id": "XO898Foq7Nkz"
      },
      "source": [
        "3) Escreva um programa que leia uma string e retorne uma tabela das letras do alfabeto em ordem alfabética que ocorrem na string junto com o número de vezes que cada letra ocorre. Letras maiúsculas devem deve ser ignoradas. Um exemplo de saída do programa quando o usuário digita os dados “ThiS is String with Upper and lower case Letters”, seria o seguinte:\n",
        "\n",
        "a  2\n",
        "\n",
        "c  1\n",
        "\n",
        "\n",
        "d  1\n",
        "\n",
        "\n",
        "e  5\n",
        "\n",
        "\n",
        "g  1\n",
        "\n",
        "\n",
        "h  2\n",
        "\n",
        "\n",
        "i  4\n",
        "\n",
        "\n",
        "l  2\n",
        "\n",
        "\n",
        "n  2\n",
        "\n",
        "\n",
        "o  1\n",
        "\n",
        "\n",
        "p  2\n",
        "\n",
        "\n",
        "r  4\n",
        "\n",
        "\n",
        "s  5\n",
        "\n",
        "\n",
        "t  5\n",
        "\n",
        "\n",
        "u  1\n",
        "\n",
        "\n",
        "w  2"
      ]
    },
    {
      "cell_type": "code",
      "metadata": {
        "colab": {
          "base_uri": "https://localhost:8080/"
        },
        "id": "nqi-F_ljf3ZJ",
        "outputId": "4b355be2-d620-42b4-ab9e-1f51061afcb8"
      },
      "source": [
        "# Exercício 3\n",
        "\n",
        "def char_frequency_sorted(string):\n",
        "    dict = {}\n",
        "    letters = 'abcdefghijklmnopqrstuvwxyz'\n",
        "    for letter in string.lower():\n",
        "        if letter in letters:\n",
        "            if letter in dict:\n",
        "                dict[letter] += 1\n",
        "            else:\n",
        "                dict[letter] = 1\n",
        "    tuple = list(dict.items())\n",
        "    tuple.sort(key=lambda x: x[0])\n",
        "    return tuple\n",
        "\n",
        "def show_tuple_table(tuple):\n",
        "    for i, j in tuple:\n",
        "        print(i, j)\n",
        "\n",
        "tuple = char_frequency_sorted(\"ThiS is String with Upper and lower case Letters\")\n",
        "show_tuple_table(tuple)\n",
        "#tuple"
      ],
      "execution_count": 9,
      "outputs": [
        {
          "output_type": "stream",
          "text": [
            "a 2\n",
            "c 1\n",
            "d 1\n",
            "e 5\n",
            "g 1\n",
            "h 2\n",
            "i 4\n",
            "l 2\n",
            "n 2\n",
            "o 1\n",
            "p 2\n",
            "r 4\n",
            "s 5\n",
            "t 5\n",
            "u 1\n",
            "w 2\n"
          ],
          "name": "stdout"
        }
      ]
    }
  ]
}